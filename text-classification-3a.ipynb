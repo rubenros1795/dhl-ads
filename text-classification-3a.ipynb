{
 "cells": [
  {
   "cell_type": "code",
   "execution_count": 1,
   "metadata": {},
   "outputs": [
    {
     "name": "stderr",
     "output_type": "stream",
     "text": [
      "C:\\ProgramData\\Anaconda3\\lib\\site-packages\\sklearn\\ensemble\\weight_boosting.py:29: DeprecationWarning: numpy.core.umath_tests is an internal NumPy module and should not be imported. It will be removed in a future NumPy release.\n",
      "  from numpy.core.umath_tests import inner1d\n"
     ]
    }
   ],
   "source": [
    "from sklearn.model_selection import train_test_split\n",
    "from sklearn.feature_extraction.text import CountVectorizer\n",
    "from sklearn.feature_extraction.text import TfidfTransformer\n",
    "from sklearn.feature_extraction.text import TfidfVectorizer\n",
    "from sklearn.pipeline import Pipeline, FeatureUnion\n",
    "from sklearn.preprocessing import StandardScaler\n",
    "from sklearn.decomposition import TruncatedSVD\n",
    "from sklearn.ensemble import RandomForestClassifier\n",
    "from xgboost import XGBClassifier\n",
    "from sklearn import preprocessing\n",
    "from sklearn.naive_bayes import MultinomialNB\n",
    "\n",
    "from sklearn.pipeline import Pipeline\n",
    "import os, re, string\n",
    "import pandas as pd\n",
    "import numpy as np\n",
    "import matplotlib.pyplot as plt\n",
    "import seaborn as sns\n",
    "from sklearn.metrics import accuracy_score\n",
    "\n",
    "%matplotlib inline\n",
    "\n",
    "from sklearn import model_selection, preprocessing, linear_model, naive_bayes, metrics, svm\n",
    "from sklearn import decomposition, ensemble\n",
    "\n",
    "from sklearn.neighbors import KNeighborsClassifier\n",
    "from sklearn.naive_bayes import GaussianNB, MultinomialNB, BernoulliNB\n",
    "from sklearn.linear_model import LogisticRegression, SGDClassifier\n",
    "from sklearn.svm import SVC, LinearSVC, NuSVC\n",
    "\n",
    "stop = [word.split() for word in open(\"C:\\\\Users\\\\Ruben\\\\Documents\\\\Artikelen\\\\Joris\\\\stopwords-nl.txt\", 'r', encoding = \"utf-8\").readlines()]"
   ]
  },
  {
   "cell_type": "code",
   "execution_count": 2,
   "metadata": {},
   "outputs": [],
   "source": [
    "def clean_and_split_str(txt):\n",
    "    #strip_special_chars = re.compile(\"[^A-Za-z0-9#]+\")\n",
    "    translator = str.maketrans('', '', string.punctuation)\n",
    "    txt = txt.translate(translator)\n",
    "    txt = re.sub('\\s+', ' ', txt).strip()\n",
    "    txt = txt.lower()\n",
    "    \n",
    "    #for word in ad_words:\n",
    "    #    txt = txt.replace(word, \"=MARKER=\")\n",
    "    \n",
    "    return txt"
   ]
  },
  {
   "cell_type": "code",
   "execution_count": 11,
   "metadata": {
    "scrolled": true
   },
   "outputs": [],
   "source": [
    "os.chdir(\"C://Users//Ruben//Downloads//metadata//training_data2\")\n",
    "data = pd.read_csv('training_data.csv', sep = '\\t')"
   ]
  },
  {
   "cell_type": "code",
   "execution_count": 12,
   "metadata": {},
   "outputs": [],
   "source": [
    "ad_words = ['huishoudster', 'beschaafd', 'gezocht', 'goede getuigschriften', 'goede getuigen', 'geplaatst worden', 'goed kunnende']"
   ]
  },
  {
   "cell_type": "code",
   "execution_count": 13,
   "metadata": {},
   "outputs": [
    {
     "data": {
      "text/plain": [
       "100000"
      ]
     },
     "execution_count": 13,
     "metadata": {},
     "output_type": "execute_result"
    }
   ],
   "source": [
    "data = data.sample(n=100000)\n",
    "data= data.reset_index(drop=True)\n",
    "data['clean_art'] = [clean_and_split_str(art) for art in data.ocr]\n",
    "data = data[['id', 'clean_art']]\n",
    "\n",
    "### Classify Manually\n",
    "data['class_name'] = \"\"\n",
    "\n",
    "for i in range(0,len(data) - 1):\n",
    "    if any(ext in data.clean_art[i] for ext in ad_words):\n",
    "        data['class_name'][i] = 1\n",
    "    else:\n",
    "        data['class_name'][i] = 0\n",
    "\n",
    "len(data)"
   ]
  },
  {
   "cell_type": "code",
   "execution_count": 20,
   "metadata": {},
   "outputs": [
    {
     "data": {
      "image/png": "[encoded data removed]",
      "text/plain": [
       "<Figure size 576x432 with 1 Axes>"
      ]
     },
     "metadata": {},
     "output_type": "display_data"
    }
   ],
   "source": [
    "fig = plt.figure(figsize=(8,6))\n",
    "data.groupby('class_name').clean_art.count().plot.bar(ylim=0)\n",
    "plt.show()"
   ]
  },
  {
   "cell_type": "code",
   "execution_count": 21,
   "metadata": {},
   "outputs": [],
   "source": [
    "## Create Sets\n",
    "X = data['clean_art']\n",
    "Y = data['class_name']\n",
    "\n",
    "X_train, X_test, Y_train, Y_test = train_test_split(X, Y, test_size=0.1)"
   ]
  },
  {
   "cell_type": "code",
   "execution_count": 22,
   "metadata": {},
   "outputs": [],
   "source": [
    "Y_train = list(Y_train.values)\n",
    "Y_test = list(Y_test.values)"
   ]
  },
  {
   "cell_type": "code",
   "execution_count": 103,
   "metadata": {},
   "outputs": [],
   "source": [
    "#tfidf = TfidfVectorizer(sublinear_tf=True, min_df=5, norm='l2', ngram_range=(1, 2))\n",
    "#X_train = tfidf.fit_transform(X_train).toarray()\n",
    "#print(X_train.shape)"
   ]
  },
  {
   "cell_type": "markdown",
   "metadata": {},
   "source": [
    "**Testing Different Classifiers: **\n",
    "   "
   ]
  },
  {
   "cell_type": "code",
   "execution_count": null,
   "metadata": {},
   "outputs": [],
   "source": [
    "# ----- MultinominalNB"
   ]
  },
  {
   "cell_type": "code",
   "execution_count": 10,
   "metadata": {},
   "outputs": [],
   "source": [
    "tfidf_vec = TfidfVectorizer(min_df=1)\n",
    "X_train_tfidf = tfidf_vec.fit_transform(X_train)\n",
    "\n",
    "# Train Classifier\n",
    "clf = MultinomialNB().fit(X_train_tfidf, Y_train)\n",
    "\n",
    "X_test_tfd = tfidf_vec.transform(X_test)\n",
    "mnb_preds = clf.predict(X_test_tfd)"
   ]
  },
  {
   "cell_type": "code",
   "execution_count": 11,
   "metadata": {},
   "outputs": [],
   "source": [
    "# ----- LinearSVC"
   ]
  },
  {
   "cell_type": "code",
   "execution_count": 23,
   "metadata": {},
   "outputs": [],
   "source": [
    "clf_lsvc = LinearSVC()\n",
    "tfidf_vec = TfidfVectorizer(min_df=1)\n",
    "X_train_tfidf = tfidf_vec.fit_transform(X_train)\n",
    "clf_lsvc = clf_lsvc.fit(X_train_tfidf, Y_train)\n",
    "X_test_tfd = tfidf_vec.transform(X_test)\n",
    "lsvc_preds = clf_lsvc.predict(X_test_tfd)"
   ]
  },
  {
   "cell_type": "code",
   "execution_count": 24,
   "metadata": {},
   "outputs": [],
   "source": [
    "data['predicted_class_name'] = \"\"\n",
    "\n",
    "for c,i in enumerate(data.clean_art):\n",
    "    test_tfd = tfidf_vec.transform([i])\n",
    "    data['predicted_class_name'][c] = clf_lsvc.predict(test_tfd)[0]"
   ]
  },
  {
   "cell_type": "code",
   "execution_count": 25,
   "metadata": {},
   "outputs": [],
   "source": [
    "acc_count = 0\n",
    "\n",
    "for i in range(0,len(data)):\n",
    "    if data.class_name[i] != int(data.predicted_class_name[i]):\n",
    "        acc_count += 1"
   ]
  },
  {
   "cell_type": "code",
   "execution_count": 26,
   "metadata": {},
   "outputs": [
    {
     "data": {
      "text/plain": [
       "99.527"
      ]
     },
     "execution_count": 26,
     "metadata": {},
     "output_type": "execute_result"
    }
   ],
   "source": [
    "(100000 - acc_count) / len(data) * 100 "
   ]
  },
  {
   "cell_type": "code",
   "execution_count": 16,
   "metadata": {},
   "outputs": [],
   "source": [
    "data_onlyads = data[data.class_name == 1]\n",
    "data_onlyads = data_onlyads.reset_index(drop=True)\n",
    "acc_count = 0\n",
    "\n",
    "for i in range(0,len(data_onlyads)):\n",
    "    if data_onlyads.class_name[i] != int(data_onlyads.predicted_class_name[i]):\n",
    "        acc_count += 1"
   ]
  },
  {
   "cell_type": "code",
   "execution_count": 17,
   "metadata": {},
   "outputs": [
    {
     "data": {
      "text/plain": [
       "95.48002385211689"
      ]
     },
     "execution_count": 17,
     "metadata": {},
     "output_type": "execute_result"
    }
   ],
   "source": [
    "(len(data_onlyads) - acc_count) / len(data_onlyads) * 100 "
   ]
  },
  {
   "cell_type": "markdown",
   "metadata": {},
   "source": [
    "*** Test Data Import and Classification ***"
   ]
  },
  {
   "cell_type": "code",
   "execution_count": 28,
   "metadata": {},
   "outputs": [],
   "source": [
    "for np in ['roni', 'nvdd', 'algh']:\n",
    "    os.chdir(\"C://Users//Ruben//Downloads//metadata//\" + np + '_set')\n",
    "    df = pd.read_csv('1880-1890.csv', sep = '\\t')\n",
    "    df['cleaned'] = [clean_and_split_str(art) for art in df.ocr]\n",
    "    test_tfd = tfidf_vec.transform(df['cleaned'])\n",
    "    df['predict'] = list(clf_lsvc.predict(test_tfd))\n",
    "    df = df[df.predict == '1']\n",
    "    df.to_csv('extracted_job_ads_' + np +  '_2.csv')"
   ]
  },
  {
   "cell_type": "code",
   "execution_count": 29,
   "metadata": {},
   "outputs": [
    {
     "data": {
      "text/plain": [
       "['classifier_a.pkl']"
      ]
     },
     "execution_count": 29,
     "metadata": {},
     "output_type": "execute_result"
    }
   ],
   "source": [
    "os.chdir(\"C://Users//Ruben//Documents//DHLab\")\n",
    "\n",
    "\n",
    "from sklearn.externals import joblib\n",
    "joblib.dump(tfidf_vec, 'tfidfVectorizer_a.pkl')\n",
    "joblib.dump(clf_lsvc, 'classifier_a.pkl')"
   ]
  },
  {
   "cell_type": "code",
   "execution_count": 33,
   "metadata": {},
   "outputs": [],
   "source": [
    "    "
   ]
  },
  {
   "cell_type": "code",
   "execution_count": 34,
   "metadata": {},
   "outputs": [],
   "source": []
  },
  {
   "cell_type": "code",
   "execution_count": null,
   "metadata": {},
   "outputs": [],
   "source": []
  }
 ],
 "metadata": {
  "kernelspec": {
   "display_name": "Python 3",
   "language": "python",
   "name": "python3"
  },
  "language_info": {
   "codemirror_mode": {
    "name": "ipython",
    "version": 3
   },
   "file_extension": ".py",
   "mimetype": "text/x-python",
   "name": "python",
   "nbconvert_exporter": "python",
   "pygments_lexer": "ipython3",
   "version": "3.6.5"
  }
 },
 "nbformat": 4,
 "nbformat_minor": 2
}
