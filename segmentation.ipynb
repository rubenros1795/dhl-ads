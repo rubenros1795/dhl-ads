{
 "cells": [
  {
   "cell_type": "code",
   "execution_count": 33,
   "metadata": {},
   "outputs": [],
   "source": [
    "from skimage import io\n",
    "from scipy import ndimage\n",
    "import sys\n",
    "import os\n",
    "import glob\n",
    "import numpy as np # linear algebra\n",
    "import pandas as pd # data processing, CSV file I/O (e.g. pd.read_csv)\n",
    "from scipy import ndimage\n",
    "import sys"
   ]
  },
  {
   "cell_type": "code",
   "execution_count": 34,
   "metadata": {},
   "outputs": [],
   "source": [
    "os.chdir(\"C://Users//Ruben//Documents//GitHub//dhl-ads\")"
   ]
  },
  {
   "cell_type": "code",
   "execution_count": 37,
   "metadata": {},
   "outputs": [
    {
     "name": "stderr",
     "output_type": "stream",
     "text": [
      "C:\\ProgramData\\Anaconda3\\lib\\site-packages\\skimage\\io\\_plugins\\freeimage_plugin.py:6: skimage_deprecation: Function ``imread`` is deprecated. Use ``imageio plugin`` instead.\n",
      "  def imread(filename):\n"
     ]
    }
   ],
   "source": [
    "im = io.imread('test-image.jpg', plugin='freeimage')"
   ]
  },
  {
   "cell_type": "code",
   "execution_count": 39,
   "metadata": {},
   "outputs": [],
   "source": [
    "from skimage.color import rgb2gray\n",
    "from skimage import exposure\n",
    "\n",
    "im = exposure.rescale_intensity(im)\n",
    "im = rgb2gray(im)"
   ]
  },
  {
   "cell_type": "code",
   "execution_count": 40,
   "metadata": {},
   "outputs": [
    {
     "name": "stderr",
     "output_type": "stream",
     "text": [
      "C:\\ProgramData\\Anaconda3\\lib\\site-packages\\skimage\\segmentation\\_clear_border.py:58: FutureWarning: Using a non-tuple sequence for multidimensional indexing is deprecated; use `arr[tuple(seq)]` instead of `arr[seq]`. In the future this will be interpreted as an array index, `arr[np.array(seq)]`, which will result either in an error or a different result.\n",
      "  borders[slicedim] = True\n",
      "C:\\ProgramData\\Anaconda3\\lib\\site-packages\\skimage\\segmentation\\_clear_border.py:60: FutureWarning: Using a non-tuple sequence for multidimensional indexing is deprecated; use `arr[tuple(seq)]` instead of `arr[seq]`. In the future this will be interpreted as an array index, `arr[np.array(seq)]`, which will result either in an error or a different result.\n",
      "  borders[slicedim] = True\n"
     ]
    },
    {
     "data": {
      "image/png": "[encoded data removed]",
      "text/plain": [
       "<Figure size 432x288 with 1 Axes>"
      ]
     },
     "metadata": {},
     "output_type": "display_data"
    }
   ],
   "source": [
    "from skimage import filters, segmentation\n",
    "\n",
    "# find a dividing line between 0 and 255\n",
    "# pixels below this value will be black\n",
    "# pixels above this value will be white\n",
    "val = filters.threshold_otsu(im)\n",
    "\n",
    "# the mask object converts each pixel in the image to True or False\n",
    "# to indicate whether the given pixel is black/white\n",
    "mask = im < val\n",
    "\n",
    "# apply the mask to the image object\n",
    "clean_border = segmentation.clear_border(mask)\n",
    "\n",
    "# plot the resulting binarized image\n",
    "plt.imshow(clean_border, cmap='gray')\n",
    "plt.show()"
   ]
  },
  {
   "cell_type": "code",
   "execution_count": 41,
   "metadata": {},
   "outputs": [],
   "source": [
    "from skimage.measure import label\n",
    "\n",
    "# labeled contains one integer for each pixel in the image,\n",
    "# where that image indicates the segment to which the pixel belongs\n",
    "labeled = label(clean_border)"
   ]
  },
  {
   "cell_type": "code",
   "execution_count": 46,
   "metadata": {},
   "outputs": [],
   "source": [
    "from skimage.measure import regionprops\n",
    "\n",
    "# create array in which to store cropped articles\n",
    "cropped_images = []\n",
    "\n",
    "# define amount of padding to add to cropped image\n",
    "pad = 20\n",
    "\n",
    "# for each segment number, find the area of the given segment.\n",
    "# If that area is sufficiently large, crop out the identified segment.\n",
    "for region_index, region in enumerate(regionprops(labeled)):\n",
    "    if region.area < 2000:\n",
    "        continue\n",
    "\n",
    "  # draw a rectangle around the segmented articles\n",
    "  # bbox describes: min_row, min_col, max_row, max_col\n",
    "    minr, minc, maxr, maxc = region.bbox\n",
    "\n",
    "  # use those bounding box coordinates to crop the image\n",
    "    cropped_images.append(im[minr-pad:maxr+pad, minc-pad:maxc+pad])"
   ]
  },
  {
   "cell_type": "code",
   "execution_count": null,
   "metadata": {},
   "outputs": [],
   "source": [
    "import io\n",
    "\n",
    "# create a directory in which to store cropped images\n",
    "out_dir = \"segmented_articles/\"\n",
    "if not os.path.exists(out_dir):\n",
    "  os.makedirs(out_dir)\n",
    "\n",
    "# save each cropped image by its index number\n",
    "for c, cropped_image in enumerate(cropped_images):\n",
    "    viewer = ImageViewer(cropped_image)\n",
    "    viewer.show()"
   ]
  },
  {
   "cell_type": "code",
   "execution_count": 51,
   "metadata": {},
   "outputs": [
    {
     "name": "stderr",
     "output_type": "stream",
     "text": [
      "C:\\ProgramData\\Anaconda3\\lib\\site-packages\\skimage\\viewer\\utils\\core.py:10: UserWarning: Recommended matplotlib backend is `Agg` for full skimage.viewer functionality.\n",
      "  warn(\"Recommended matplotlib backend is `Agg` for full \"\n"
     ]
    }
   ],
   "source": [
    "from skimage.viewer import ImageViewer\n"
   ]
  },
  {
   "cell_type": "code",
   "execution_count": 52,
   "metadata": {},
   "outputs": [
    {
     "data": {
      "text/plain": [
       "[]"
      ]
     },
     "execution_count": 52,
     "metadata": {},
     "output_type": "execute_result"
    }
   ],
   "source": []
  },
  {
   "cell_type": "code",
   "execution_count": null,
   "metadata": {},
   "outputs": [],
   "source": []
  }
 ],
 "metadata": {
  "kernelspec": {
   "display_name": "Python 3",
   "language": "python",
   "name": "python3"
  },
  "language_info": {
   "codemirror_mode": {
    "name": "ipython",
    "version": 3
   },
   "file_extension": ".py",
   "mimetype": "text/x-python",
   "name": "python",
   "nbconvert_exporter": "python",
   "pygments_lexer": "ipython3",
   "version": "3.6.5"
  }
 },
 "nbformat": 4,
 "nbformat_minor": 2
}
