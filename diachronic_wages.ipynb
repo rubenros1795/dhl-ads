{
 "cells": [
  {
   "cell_type": "code",
   "execution_count": 1,
   "metadata": {},
   "outputs": [],
   "source": [
    "import os, glob, pandas as pd\n",
    "import numpy as np \n",
    "import matplotlib as mpl\n",
    "import matplotlib.pyplot as plt \n",
    "import seaborn as sns, numpy as np\n",
    "\n",
    "os.chdir(\"C://Users//Ruben//Downloads//metadata\")"
   ]
  },
  {
   "cell_type": "code",
   "execution_count": 2,
   "metadata": {},
   "outputs": [],
   "source": [
    "## Create Loop that Imports DFS\n",
    "\n",
    "dfm = pd.DataFrame()\n",
    "\n",
    "for p in range(50,81,10):\n",
    "    wd = \"C://Users//Ruben//Downloads//metadata//algh_set_\" + str(p)\n",
    "    os.chdir(wd)\n",
    "    ldf = glob.glob('*.csv')\n",
    "    fn = [f for f in ldf if \"extracted\" in f][0]\n",
    "    df = pd.read_csv(fn)\n",
    "    df['year'] = str(p)\n",
    "    dfm = dfm.append(df)"
   ]
  },
  {
   "cell_type": "code",
   "execution_count": 3,
   "metadata": {},
   "outputs": [],
   "source": [
    "dfm  = dfm[(dfm.res != \"no wage indication\") & (dfm.res != \"qualitative\")]\n",
    "dfm = dfm.reset_index(drop=True)"
   ]
  },
  {
   "cell_type": "code",
   "execution_count": 56,
   "metadata": {},
   "outputs": [],
   "source": [
    "def PlotOccupationPeriod(occ, period):\n",
    "    \n",
    "    dft = dfm[dfm.year == str(period)]\n",
    "    dft = dft.reset_index(drop=True)\n",
    "    list_wages = list()\n",
    "    \n",
    "    for c,i in enumerate(dft.res):\n",
    "        if occ in dft.occ[c]:\n",
    "\n",
    "            try:\n",
    "                i = int(i)\n",
    "                list_wages.append([period, i])\n",
    "\n",
    "            except ValueError:\n",
    "                continue\n",
    "                \n",
    "    return list_wages\n",
    "\n",
    "def PlotDiachronic(start_year, end_year, interval, occupation, upper_limit):\n",
    "    ml = list()\n",
    "    for i in range(start_year,end_year,interval):\n",
    "        l = PlotOccupationPeriod(occupation, i)\n",
    "        ml = ml + l\n",
    "    dfr = pd.DataFrame([[k for k,v in ml], [v for k,v in ml]]).T\n",
    "    dfr.columns = ['per', 'w']\n",
    "    dfr['per'] = dfr.per.astype(str)\n",
    "    dfr['per'] = [\"18\" + i for i in list(dfr['per'])]\n",
    "    dfr = dfr[dfr.w < upper_limit]\n",
    "    #dfr.boxplot(column='w', by = 'per')\n",
    "    \n",
    "    ax = sns.boxplot(x=\"per\", y=\"w\", data=dfr)\n",
    "\n",
    "    # Calculate number of obs per group & median to position labels\n",
    "    medians = dfr.groupby(['per'])['w'].median().values\n",
    "    nobs = dfr['per'].value_counts().values\n",
    "    nobs = [str(x) for x in nobs.tolist()]\n",
    "    nobs = [\"n: \" + i for i in nobs]\n",
    "\n",
    "    # Add it to the plot\n",
    "    pos = range(len(nobs))\n",
    "    for tick,label in zip(pos,ax.get_xticklabels()):\n",
    "        ax.text(pos[tick], medians[tick] + 0.03, nobs[tick],\n",
    "        horizontalalignment='center', size='x-small', color='lightgrey', weight='semibold')\n",
    "    \n",
    "    ax.set(xlabel='Periods (Decades)', ylabel='Wage')\n",
    "    ax = ax.get_figure()\n",
    "    ax.savefig('dienstbode_200.png', dpi=400)\n",
    "\n",
    "    return ax"
   ]
  },
  {
   "cell_type": "code",
   "execution_count": 62,
   "metadata": {},
   "outputs": [
    {
     "data": {
      "image/png": "[encoded data removed]",
      "text/plain": [
       "<Figure size 432x288 with 1 Axes>"
      ]
     },
     "metadata": {},
     "output_type": "display_data"
    }
   ],
   "source": [
    "dfr = PlotDiachronic(50, 51, 10, \"meid\", 1000)"
   ]
  },
  {
   "cell_type": "code",
   "execution_count": 26,
   "metadata": {},
   "outputs": [],
   "source": []
  },
  {
   "cell_type": "code",
   "execution_count": null,
   "metadata": {},
   "outputs": [],
   "source": []
  }
 ],
 "metadata": {
  "kernelspec": {
   "display_name": "Python 3",
   "language": "python",
   "name": "python3"
  },
  "language_info": {
   "codemirror_mode": {
    "name": "ipython",
    "version": 3
   },
   "file_extension": ".py",
   "mimetype": "text/x-python",
   "name": "python",
   "nbconvert_exporter": "python",
   "pygments_lexer": "ipython3",
   "version": "3.6.5"
  }
 },
 "nbformat": 4,
 "nbformat_minor": 2
}
