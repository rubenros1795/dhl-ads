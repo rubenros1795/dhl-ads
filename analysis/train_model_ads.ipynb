{
 "cells": [
  {
   "cell_type": "code",
   "execution_count": 1,
   "metadata": {},
   "outputs": [
    {
     "name": "stderr",
     "output_type": "stream",
     "text": [
      "C:\\ProgramData\\Anaconda3\\lib\\site-packages\\gensim\\utils.py:1212: UserWarning: detected Windows; aliasing chunkize to chunkize_serial\n",
      "  warnings.warn(\"detected Windows; aliasing chunkize to chunkize_serial\")\n"
     ]
    }
   ],
   "source": [
    "import pandas as pd\n",
    "import glob, os, re\n",
    "from tika import parser\n",
    "import gensim\n",
    "from gensim.models import Word2Vec\n",
    "import string\n",
    "import numpy as np\n",
    "import seaborn as sns\n",
    "import matplotlib.pyplot as plt\n",
    "\n",
    "os.chdir('C:\\\\Users\\\\Ruben\\\\Downloads\\\\metadata')\n",
    "\n",
    "def clean_and_split_str(txt):\n",
    "    #strip_special_chars = re.compile(\"[^A-Za-z0-9#]+\")\n",
    "    translator = str.maketrans('', '', string.punctuation)\n",
    "    txt = txt.translate(translator)\n",
    "    txt = re.sub('\\s+', ' ', txt).strip()\n",
    "    txt = txt.lower()\n",
    "    txt = txt.split(' ')\n",
    "    return txt"
   ]
  },
  {
   "cell_type": "code",
   "execution_count": 12,
   "metadata": {},
   "outputs": [
    {
     "name": "stderr",
     "output_type": "stream",
     "text": [
      "C:\\ProgramData\\Anaconda3\\lib\\site-packages\\IPython\\core\\interactiveshell.py:2785: DtypeWarning: Columns (5,6,10,11,12,13,14,15,16) have mixed types. Specify dtype option on import or set low_memory=False.\n",
      "  interactivity=interactivity, compiler=compiler, result=result)\n",
      "C:\\ProgramData\\Anaconda3\\lib\\site-packages\\IPython\\core\\interactiveshell.py:2785: DtypeWarning: Columns (6,7,11,12,13,14,15,16,17) have mixed types. Specify dtype option on import or set low_memory=False.\n",
      "  interactivity=interactivity, compiler=compiler, result=result)\n"
     ]
    }
   ],
   "source": [
    "sentences = []\n",
    "\n",
    "for y in [1850,1860,1870,1880]:\n",
    "    \n",
    "    direct = 'C:\\\\Users\\\\Ruben\\\\Downloads\\\\metadata' + \"\\\\ads_all_\" + str(y) + 's\\\\split'\n",
    "    os.chdir(direct)\n",
    "    lcsv = glob.glob('*.csv')\n",
    "    df = pd.read_csv(lcsv[0], sep = '\\t')\n",
    "    df = df.iloc[1:,:]\n",
    "    temp_list = [clean_and_split_str(i) for i in df.ocr]\n",
    "    for i in temp_list:\n",
    "        sentences.append(i)\n",
    "        \n",
    "    df = pd.read_csv(lcsv[1], sep = '\\t')\n",
    "    df = df.iloc[1:,:]\n",
    "    temp_list = [clean_and_split_str(i) for i in df.ocr]\n",
    "    for i in temp_list:\n",
    "        sentences.append(i)"
   ]
  },
  {
   "cell_type": "code",
   "execution_count": 14,
   "metadata": {},
   "outputs": [
    {
     "data": {
      "text/plain": [
       "799988"
      ]
     },
     "execution_count": 14,
     "metadata": {},
     "output_type": "execute_result"
    }
   ],
   "source": [
    "len(sentences)"
   ]
  },
  {
   "cell_type": "code",
   "execution_count": 15,
   "metadata": {},
   "outputs": [],
   "source": [
    "model = gensim.models.Word2Vec(sentences, min_count=5, workers=6)\n",
    "#model.save(\"vbmh_model.w2v\")"
   ]
  },
  {
   "cell_type": "code",
   "execution_count": 19,
   "metadata": {},
   "outputs": [
    {
     "name": "stderr",
     "output_type": "stream",
     "text": [
      "C:\\ProgramData\\Anaconda3\\lib\\site-packages\\ipykernel_launcher.py:1: DeprecationWarning: Call to deprecated `most_similar` (Method will be removed in 4.0.0, use self.wv.most_similar() instead).\n",
      "  \"\"\"Entry point for launching an IPython kernel.\n",
      "C:\\ProgramData\\Anaconda3\\lib\\site-packages\\gensim\\matutils.py:737: FutureWarning: Conversion of the second argument of issubdtype from `int` to `np.signedinteger` is deprecated. In future, it will be treated as `np.int32 == np.dtype(int).type`.\n",
      "  if np.issubdtype(vec.dtype, np.int):\n"
     ]
    },
    {
     "data": {
      "text/plain": [
       "[('kindermeisje', 0.9204257130622864),\n",
       " ('loopmeisje', 0.8490853309631348),\n",
       " ('loopjongen', 0.7890723943710327),\n",
       " ('burgermeisje', 0.7863122820854187),\n",
       " ('burgerjongen', 0.7685351371765137),\n",
       " ('burgerjongeling', 0.7540156841278076),\n",
       " ('meisje', 0.7495064735412598),\n",
       " ('jiongeling', 0.7350574731826782),\n",
       " ('marqueur', 0.7188129425048828),\n",
       " ('meisie', 0.7174129486083984)]"
      ]
     },
     "execution_count": 19,
     "metadata": {},
     "output_type": "execute_result"
    }
   ],
   "source": [
    "model.most_similar('dagmeisje')"
   ]
  },
  {
   "cell_type": "code",
   "execution_count": 20,
   "metadata": {},
   "outputs": [],
   "source": [
    "os.chdir(\"C://Users//Ruben//Documents//GitHub//dhl-ads//resources\")\n",
    "\n",
    "model.save(\"model_ads.w2v\")"
   ]
  },
  {
   "cell_type": "code",
   "execution_count": 2,
   "metadata": {},
   "outputs": [],
   "source": [
    "os.chdir(\"C://Users//Ruben//Documents//GitHub//dhl-ads//resources\")\n",
    "m= Word2Vec.load(\"model_ads.w2v\")"
   ]
  },
  {
   "cell_type": "code",
   "execution_count": null,
   "metadata": {},
   "outputs": [],
   "source": []
  }
 ],
 "metadata": {
  "kernelspec": {
   "display_name": "Python 3",
   "language": "python",
   "name": "python3"
  },
  "language_info": {
   "codemirror_mode": {
    "name": "ipython",
    "version": 3
   },
   "file_extension": ".py",
   "mimetype": "text/x-python",
   "name": "python",
   "nbconvert_exporter": "python",
   "pygments_lexer": "ipython3",
   "version": "3.6.5"
  }
 },
 "nbformat": 4,
 "nbformat_minor": 2
}
