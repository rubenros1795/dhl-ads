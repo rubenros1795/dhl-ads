{
 "cells": [
  {
   "cell_type": "code",
   "execution_count": 1,
   "metadata": {},
   "outputs": [],
   "source": [
    "def NumberCandidateClassifier(string, index, number_candidate):\n",
    "\n",
    "    score = 0\n",
    "    weights = 0\n",
    "    features = []\n",
    "\n",
    "    # Negative\n",
    "    if len(number_candidate) > 5:\n",
    "        score += -1\n",
    "        weights += 1\n",
    "        print('N: large string')\n",
    "    if number_candidate[0:2] == \"18\" and len(number_candidate) == 4:\n",
    "        score += -1\n",
    "        weights += 1\n",
    "        print('N: starts with 18')\n",
    "    if string[index+1] in ['januari', 'februari', 'maart', 'april', 'mei', 'juni', 'juli', 'augustus', 'september', 'oktober', 'november', 'december']:\n",
    "        score += -1\n",
    "        weights += 1\n",
    "        print('N: there is a month after number, probably a date')"
   ]
  },
  {
   "cell_type": "code",
   "execution_count": 2,
   "metadata": {},
   "outputs": [],
   "source": [
    "s = 'kan den 12 mei 1860 werk bekomen by r k faber mr smid te wolvega brieven franco «p eene buitenplaats aan den groninger straatweg 1£ uur van leeuwarden wordt tegen voldoend salaris en aannemelijke voorwaarden gevraagd een tuinman liefst van de p g en gehuwd van middelbaren ouderdom en zijn vak in'"
   ]
  },
  {
   "cell_type": "code",
   "execution_count": 3,
   "metadata": {},
   "outputs": [],
   "source": [
    "NumberCandidateClassifier(s,2,\"12\")"
   ]
  },
  {
   "cell_type": "code",
   "execution_count": 8,
   "metadata": {},
   "outputs": [
    {
     "name": "stdout",
     "output_type": "stream",
     "text": [
      "N: there is a month after number, probably a date\n"
     ]
    }
   ],
   "source": [
    "if s.split()[2+1] in ['januari', 'februari', 'maart', 'april', 'mei', 'juni', 'juli', 'augustus', 'september', 'oktober', 'november', 'december']:\n",
    "\n",
    "    print('N: there is a month after number, probably a date')"
   ]
  },
  {
   "cell_type": "code",
   "execution_count": 6,
   "metadata": {},
   "outputs": [
    {
     "data": {
      "text/plain": [
       "'mei'"
      ]
     },
     "execution_count": 6,
     "metadata": {},
     "output_type": "execute_result"
    }
   ],
   "source": [
    "s.split()[2+1]"
   ]
  },
  {
   "cell_type": "code",
   "execution_count": null,
   "metadata": {},
   "outputs": [],
   "source": []
  }
 ],
 "metadata": {
  "kernelspec": {
   "display_name": "Python 3",
   "language": "python",
   "name": "python3"
  },
  "language_info": {
   "codemirror_mode": {
    "name": "ipython",
    "version": 3
   },
   "file_extension": ".py",
   "mimetype": "text/x-python",
   "name": "python",
   "nbconvert_exporter": "python",
   "pygments_lexer": "ipython3",
   "version": "3.6.5"
  }
 },
 "nbformat": 4,
 "nbformat_minor": 2
}
