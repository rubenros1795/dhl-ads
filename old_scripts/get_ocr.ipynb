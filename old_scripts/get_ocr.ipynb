{
 "cells": [
  {
   "cell_type": "code",
   "execution_count": 1,
   "metadata": {},
   "outputs": [],
   "source": [
    "import os \n",
    "import glob\n",
    "import re\n",
    "import requests\n",
    "import shutil\n",
    "import pandas as pd\n",
    "from PIL import Image\n",
    "import argparse\n",
    "import cv2\n",
    "import pytesseract"
   ]
  },
  {
   "cell_type": "code",
   "execution_count": 2,
   "metadata": {},
   "outputs": [],
   "source": [
    "os.chdir(\"C://Users//Ruben//Documents//GitHub//dhl-ads//test_ads\")"
   ]
  },
  {
   "cell_type": "code",
   "execution_count": 5,
   "metadata": {},
   "outputs": [],
   "source": [
    "list_img = glob.glob('*.png')"
   ]
  },
  {
   "cell_type": "code",
   "execution_count": 14,
   "metadata": {},
   "outputs": [],
   "source": [
    "def get_ocr(filename):\n",
    "    image = cv2.imread(filename)\n",
    "    gray = cv2.cvtColor(image, cv2.COLOR_BGR2GRAY)\n",
    "    gray = cv2.threshold(gray, 0, 255, cv2.THRESH_BINARY | cv2.THRESH_OTSU)[1]\n",
    "    gray = cv2.medianBlur(gray, 3)\n",
    "    ocr =  pytesseract.image_to_string(gray, config='--psm 11')\n",
    "    return ocr"
   ]
  },
  {
   "cell_type": "code",
   "execution_count": 15,
   "metadata": {},
   "outputs": [
    {
     "data": {
      "text/plain": [
       "\"Belangrijke Verkoopen\\n\\nVAN\\n\\nBOOMEN\\n\\nop het Goed OSEN\\n\\nVEAnnnn\\n\\nOp verzoek van den Hoog Geboren Heer Graaf\\n\\nde Geloes d’ Elsloo, zal\\n\\nde Grifier SCHREURS te Roermond\\n\\npublick met crediet, mils borgstelling verkoopen\\n\\nOp Dingsdag den 8 Maart 1870 ’s morgens\\n\\na;\\n\\nen 10 ure,\\n\\n28 zware KANADA, en\\n\\n69 zware ABEELEN - BOOMEN, staande aan\\n\\nPannenhof onder Beegden\\n\\n20 opgaande ROUDWILGEN -BOOMEN en\\n\\neevige HOUTDRAGERS in de Sloot asbij het\\n\\nkasteel\\n\\n91 lange zware KANADA-BOOMEN ier plaatse\\n\\nde oude Sebuar\\n\\n17 zware KANADA-BOOMEN aan de Rijoden\\n\\nnen, Vergadering ann Panuenbof\\n\\nOp Woensdag den 9 Maart 1870 ’s morgess\\n\\nb,\\n\\nen 10 ure,\\n\\n303 bizonder zware dikke en langstammige\\n\\nElix ENBOOMEN\\n\\nstaande op Polderdijk en in\\n\\nde allée van het Goed Osen onder Linne\\n\\nVergadering op Polderdijk aan Ne }\\n\\nAl deze boomen staan digt bij de rivier de Maas.\\n\\nee\\n\\n“her HEY POORT.\\n\\naoe\\n\\nBURGEMEESTER en WETHOUDERS\\n\\nan VENLO\\n\\nzullen, onder nadere goedkeuring van den Gemeen-\\n\\nteraad\\n\\nop Dingsdag den 15 Maart 1870, des\\n\\nmorgens ten elf ure, ten Raadhuize alhier, in het\\n\\nopenbaar overgaan tot de verpachting voor den\\n\\ntijd van 3, 6 of 9 jaren van de zoogenaainde\\n\\nTouwslagersplaats, buiien de Maas-\\n\\npoort alhier — het daaraanschictende percecl ge-\\n\\ncaumd de kolenpluats, en vier perceclen declma-\\n\\n'\\n\\nkende van den Stads-Maaswuaard.\\n\\nNadere inlichtingen te bekomen tec Gemeente- !\\n\\nSecretarie.\\n\\nVoorts zal betzelfde Collegie op Woensdag deo\\n\\n*s namiddags ten\\n\\n9 der loopende maand Maart,\\n\\n3 ure\\n\\nbuiten de Geldersche poort,\\n\\nnabij den\\n\\nouden Postwagen, overgaan tot den publicken\\n\\nverkoop van circa 700 zware EIKEN TAKKE\\n\\nBOSSEN\""
      ]
     },
     "execution_count": 15,
     "metadata": {},
     "output_type": "execute_result"
    }
   ],
   "source": [
    "get_ocr(list_img[8])"
   ]
  },
  {
   "cell_type": "code",
   "execution_count": 17,
   "metadata": {},
   "outputs": [
    {
     "ename": "AttributeError",
     "evalue": "__enter__",
     "output_type": "error",
     "traceback": [
      "\u001b[1;31m---------------------------------------------------------------------------\u001b[0m",
      "\u001b[1;31mAttributeError\u001b[0m                            Traceback (most recent call last)",
      "\u001b[1;32m<ipython-input-17-c6bbec002554>\u001b[0m in \u001b[0;36m<module>\u001b[1;34m()\u001b[0m\n\u001b[1;32m----> 1\u001b[1;33m \u001b[1;32mwith\u001b[0m\u001b[1;33m(\u001b[0m\u001b[1;34m'test2.txt'\u001b[0m\u001b[1;33m,\u001b[0m \u001b[1;34m'w'\u001b[0m\u001b[1;33m)\u001b[0m \u001b[1;32mas\u001b[0m \u001b[0mfilez\u001b[0m\u001b[1;33m:\u001b[0m\u001b[1;33m\u001b[0m\u001b[0m\n\u001b[0m\u001b[0;32m      2\u001b[0m     \u001b[0mfilez\u001b[0m\u001b[1;33m.\u001b[0m\u001b[0mwrite\u001b[0m\u001b[1;33m(\u001b[0m\u001b[0mget_ocr\u001b[0m\u001b[1;33m(\u001b[0m\u001b[0mlist_img\u001b[0m\u001b[1;33m[\u001b[0m\u001b[1;36m8\u001b[0m\u001b[1;33m]\u001b[0m\u001b[1;33m)\u001b[0m\u001b[1;33m)\u001b[0m\u001b[1;33m\u001b[0m\u001b[0m\n",
      "\u001b[1;31mAttributeError\u001b[0m: __enter__"
     ]
    }
   ],
   "source": []
  },
  {
   "cell_type": "code",
   "execution_count": null,
   "metadata": {},
   "outputs": [],
   "source": [
    "dd"
   ]
  }
 ],
 "metadata": {
  "kernelspec": {
   "display_name": "Python 3",
   "language": "python",
   "name": "python3"
  },
  "language_info": {
   "codemirror_mode": {
    "name": "ipython",
    "version": 3
   },
   "file_extension": ".py",
   "mimetype": "text/x-python",
   "name": "python",
   "nbconvert_exporter": "python",
   "pygments_lexer": "ipython3",
   "version": "3.6.5"
  }
 },
 "nbformat": 4,
 "nbformat_minor": 2
}
