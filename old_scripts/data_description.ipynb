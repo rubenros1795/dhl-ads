{
 "cells": [
  {
   "cell_type": "markdown",
   "metadata": {},
   "source": [
    "** Import Libraries **"
   ]
  },
  {
   "cell_type": "code",
   "execution_count": 1,
   "metadata": {},
   "outputs": [],
   "source": [
    "## Import libraries\n",
    "\n",
    "import os, glob, pandas as pd\n",
    "import string, re\n",
    "import numpy as np\n",
    "from tqdm import tqdm\n",
    "from collections import Counter\n",
    "import numbers\n",
    "import matplotlib.pyplot as plt\n",
    "from matplotlib.pyplot import figure\n",
    "from string import ascii_lowercase\n",
    "import os \n",
    "import glob\n",
    "import re\n",
    "import requests\n",
    "import shutil\n",
    "import pandas as pd\n",
    "import time\n",
    "from nltk import ngrams\n",
    "from operator import itemgetter"
   ]
  },
  {
   "cell_type": "code",
   "execution_count": 8,
   "metadata": {},
   "outputs": [],
   "source": [
    "def clean_and_split_str(txt):\n",
    "    #strip_special_chars = re.compile(\"[^A-Za-z0-9#]+\")\n",
    "    translator = str.maketrans('', '', string.punctuation)\n",
    "    txt = txt.translate(translator)\n",
    "    txt = re.sub('\\s+', ' ', txt).strip()\n",
    "    txt = txt.lower()\n",
    "    txt = txt.split(' ')\n",
    "    return txt\n",
    "\n",
    "def CountPages(df):\n",
    "    dfa = df.drop_duplicates(subset='issue_id', keep=\"last\")\n",
    "    page_count = sum([int(i) for i in list(df['n_pages'])])\n",
    "    return page_count\n",
    "    \n",
    "def CountTokens(df):\n",
    "    total_tokens = [item for sublist in df['clean'] for item in sublist]\n",
    "    token_len = len(total_tokens)\n",
    "    return token_len\n",
    "    \n",
    "def CountTypes(df):\n",
    "    total_tokens = [item for sublist in df['clean'] for item in sublist]\n",
    "    total_types = list(set(total_tokens))\n",
    "    type_len = len(total_types)\n",
    "    \n",
    "    return type_len"
   ]
  },
  {
   "cell_type": "markdown",
   "metadata": {},
   "source": [
    "** Data Tokenizing **"
   ]
  },
  {
   "cell_type": "code",
   "execution_count": 19,
   "metadata": {
    "collapsed": true
   },
   "outputs": [
    {
     "name": "stderr",
     "output_type": "stream",
     "text": [
      "C:\\ProgramData\\Anaconda3\\lib\\site-packages\\IPython\\core\\interactiveshell.py:2785: DtypeWarning: Columns (5,6,10,11,12,13,14,15,16) have mixed types. Specify dtype option on import or set low_memory=False.\n",
      "  interactivity=interactivity, compiler=compiler, result=result)\n"
     ]
    },
    {
     "name": "stdout",
     "output_type": "stream",
     "text": [
      "1850-1859_chunk1.csv done\n",
      "1850-1859_chunk2.csv done\n",
      "1850-1859_chunk3.csv done\n",
      "1850-1859_chunk4.csv done\n",
      "1860-1869_chunk1.csv done\n",
      "1860-1869_chunk2.csv done\n",
      "1860-1869_chunk3.csv done\n",
      "1860-1869_chunk4.csv done\n",
      "1860-1869_chunk5.csv done\n",
      "1860-1869_chunk6.csv done\n"
     ]
    },
    {
     "name": "stderr",
     "output_type": "stream",
     "text": [
      "C:\\ProgramData\\Anaconda3\\lib\\site-packages\\IPython\\core\\interactiveshell.py:2785: DtypeWarning: Columns (6,7,11,12,13,14,15,16,17) have mixed types. Specify dtype option on import or set low_memory=False.\n",
      "  interactivity=interactivity, compiler=compiler, result=result)\n"
     ]
    },
    {
     "name": "stdout",
     "output_type": "stream",
     "text": [
      "1870-1879_chunk1.csv done\n",
      "1870-1879_chunk2.csv done\n",
      "1870-1879_chunk3.csv done\n",
      "1870-1879_chunk4.csv done\n",
      "1870-1879_chunk5.csv done\n",
      "1870-1879_chunk6.csv done\n",
      "1870-1879_chunk7.csv done\n",
      "1880-1889_chunk1.csv done\n",
      "1880-1889_chunk2.csv done\n",
      "1880-1889_chunk3.csv done\n",
      "1880-1889_chunk4.csv done\n",
      "1880-1889_chunk5.csv done\n",
      "1880-1889_chunk6.csv done\n"
     ]
    }
   ],
   "source": [
    "output_dict = dict()\n",
    "\n",
    "for decade in ['1850','1860','1870','1880']:\n",
    "    os.chdir(\"C://Users//Ruben//Downloads//metadata//ads_all_\" + decade + \"s//split\")\n",
    "    list_csv_decade = glob.glob('*chunk*.csv')\n",
    "    \n",
    "    page_numbers = 0\n",
    "    total_tokens = 0\n",
    "    total_types = 0\n",
    "    total_articles = 0\n",
    "    \n",
    "    \n",
    "    for csv in list_csv_decade:\n",
    "        df = pd.read_csv(csv,sep='\\t', header=0)\n",
    "        df = df.iloc[1:,:]\n",
    "        df['clean'] = [clean_and_split_str(i) for i in df.ocr]\n",
    "        \n",
    "        page_n = CountPages(df)\n",
    "        page_numbers += page_n\n",
    "        token_n = CountTokens(df)\n",
    "        total_tokens += token_n\n",
    "        type_n = CountTypes(df)\n",
    "        total_types += type_n\n",
    "        article_n = len(list(set(df['id'])))\n",
    "        total_articles += article_n\n",
    "        print(\"{} done\".format(csv))\n",
    "    \n",
    "    ttr = (total_tokens / total_articles) / (total_types / total_articles)\n",
    "    \n",
    "    output_dict.update({decade:[page_numbers, total_articles, total_tokens,total_types, ttr]})\n",
    "    \n",
    "    "
   ]
  },
  {
   "cell_type": "code",
   "execution_count": 42,
   "metadata": {},
   "outputs": [],
   "source": [
    "df = pd.DataFrame()"
   ]
  },
  {
   "cell_type": "code",
   "execution_count": 43,
   "metadata": {},
   "outputs": [],
   "source": [
    "df['1850'] = [1,2,3,4,5]\n",
    "df['1860'] = [1,2,3,4,5]\n",
    "df['1870'] = [1,2,3,4,5]\n",
    "df['1880'] = [1,2,3,4,5]"
   ]
  },
  {
   "cell_type": "code",
   "execution_count": 44,
   "metadata": {},
   "outputs": [],
   "source": [
    "for i in ['1850','1860','1870','1880']:\n",
    "\n",
    "    for n in range(0,5):\n",
    "\n",
    "        df[i][n] = output_dict[i][n]"
   ]
  },
  {
   "cell_type": "code",
   "execution_count": 47,
   "metadata": {},
   "outputs": [],
   "source": [
    "df.index = ['page_numbers', 'total_articles', 'total_tokens','total_types', 'ttr']"
   ]
  },
  {
   "cell_type": "code",
   "execution_count": 50,
   "metadata": {},
   "outputs": [],
   "source": [
    "os.chdir('C:\\\\Users\\\\Ruben\\\\Documents\\\\GitHub\\\\dhl-ads\\\\data')\n",
    "\n",
    "df.to_csv('data-description.csv')"
   ]
  },
  {
   "cell_type": "code",
   "execution_count": 51,
   "metadata": {},
   "outputs": [
    {
     "data": {
      "text/html": [
       "<div>\n",
       "<style scoped>\n",
       "    .dataframe tbody tr th:only-of-type {\n",
       "        vertical-align: middle;\n",
       "    }\n",
       "\n",
       "    .dataframe tbody tr th {\n",
       "        vertical-align: top;\n",
       "    }\n",
       "\n",
       "    .dataframe thead th {\n",
       "        text-align: right;\n",
       "    }\n",
       "</style>\n",
       "<table border=\"1\" class=\"dataframe\">\n",
       "  <thead>\n",
       "    <tr style=\"text-align: right;\">\n",
       "      <th></th>\n",
       "      <th>1850</th>\n",
       "      <th>1860</th>\n",
       "      <th>1870</th>\n",
       "      <th>1880</th>\n",
       "    </tr>\n",
       "  </thead>\n",
       "  <tbody>\n",
       "    <tr>\n",
       "      <th>page_numbers</th>\n",
       "      <td>1491391</td>\n",
       "      <td>3321334</td>\n",
       "      <td>3534270</td>\n",
       "      <td>3427923</td>\n",
       "    </tr>\n",
       "    <tr>\n",
       "      <th>total_articles</th>\n",
       "      <td>303631</td>\n",
       "      <td>562584</td>\n",
       "      <td>645721</td>\n",
       "      <td>525792</td>\n",
       "    </tr>\n",
       "    <tr>\n",
       "      <th>total_tokens</th>\n",
       "      <td>109968538</td>\n",
       "      <td>169924898</td>\n",
       "      <td>172301740</td>\n",
       "      <td>135253736</td>\n",
       "    </tr>\n",
       "    <tr>\n",
       "      <th>total_types</th>\n",
       "      <td>6048407</td>\n",
       "      <td>10344452</td>\n",
       "      <td>13227808</td>\n",
       "      <td>10233301</td>\n",
       "    </tr>\n",
       "    <tr>\n",
       "      <th>ttr</th>\n",
       "      <td>18</td>\n",
       "      <td>16</td>\n",
       "      <td>13</td>\n",
       "      <td>13</td>\n",
       "    </tr>\n",
       "  </tbody>\n",
       "</table>\n",
       "</div>"
      ],
      "text/plain": [
       "                     1850       1860       1870       1880\n",
       "page_numbers      1491391    3321334    3534270    3427923\n",
       "total_articles     303631     562584     645721     525792\n",
       "total_tokens    109968538  169924898  172301740  135253736\n",
       "total_types       6048407   10344452   13227808   10233301\n",
       "ttr                    18         16         13         13"
      ]
     },
     "execution_count": 51,
     "metadata": {},
     "output_type": "execute_result"
    }
   ],
   "source": [
    "df"
   ]
  },
  {
   "cell_type": "code",
   "execution_count": null,
   "metadata": {},
   "outputs": [],
   "source": []
  }
 ],
 "metadata": {
  "kernelspec": {
   "display_name": "Python 3",
   "language": "python",
   "name": "python3"
  },
  "language_info": {
   "codemirror_mode": {
    "name": "ipython",
    "version": 3
   },
   "file_extension": ".py",
   "mimetype": "text/x-python",
   "name": "python",
   "nbconvert_exporter": "python",
   "pygments_lexer": "ipython3",
   "version": "3.6.5"
  }
 },
 "nbformat": 4,
 "nbformat_minor": 2
}
