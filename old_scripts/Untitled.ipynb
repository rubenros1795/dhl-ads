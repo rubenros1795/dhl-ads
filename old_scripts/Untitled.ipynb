{
 "cells": [
  {
   "cell_type": "code",
   "execution_count": 3,
   "metadata": {},
   "outputs": [],
   "source": [
    "def hasNumbers(inputString):\n",
    "    return any(char.isdigit() for char in inputString)"
   ]
  },
  {
   "cell_type": "code",
   "execution_count": 106,
   "metadata": {},
   "outputs": [],
   "source": [
    "def CloseRangeWage(string):\n",
    "    s = string.split()\n",
    "    loon_instances = [i for i,d in enumerate(s) if d=='loon' or d == 'salaris']\n",
    "    \n",
    "    for loon_instance_index in loon_instances:\n",
    "        \n",
    "\n",
    "        # SCENARIO 1: LOON F 100 OR F 100 LOON\n",
    "\n",
    "        for i in [-1, -2, 1, 2]:\n",
    "            try:\n",
    "                if s[loon_instance_index + i] in [\"f\", \"ƒ\", \"/\"] and hasNumbers(s[loon_instance_index+ i + 1] ) == True:\n",
    "                        loon = str(s[loon_instance_index+ i + 1])\n",
    "            except IndexError:\n",
    "                continue\n",
    "\n",
    "        # SCENARIO 2: lOON F100 OR F100 LOON\n",
    "\n",
    "        for i in [-1, -2, 1, 2]:\n",
    "            try:\n",
    "                if s[loon_instance_index + i][0] in [\"f\", \"ƒ\", \"/\"] and hasNumbers(s[loon_instance_index+ i]) == True:\n",
    "                    loon = str(s[loon_instance_index+ i])\n",
    "            except IndexError:\n",
    "                continue\n",
    "\n",
    "\n",
    "        # SCENARIO: LOON NAAR BEKWAAMHEID (QUALITATIVE)\n",
    "        \n",
    "        list_qualitative_wage_indicators=['goed', 'hoog', 'behoorlijk', 'bekwaamheid', 'overeen', 'flink', 'verdiensten', 'bekwaamheden']\n",
    "        loon_proximity_string = s[loon_instance_index-3:loon_instance_index + 4]\n",
    "        \n",
    "        if any(x in loon_proximity_string for x in list_qualitative_wage_indicators):\n",
    "\n",
    "            qualitative_wage = list([i for i in loon_proximity_string if i in list_qualitative_wage_indicators])\n",
    "            if len(qualitative_wage) > 0:\n",
    "                loon = \"qualitative: \" + \" \".join(qualitative_wage)\n",
    "    \n",
    "    \n",
    "        if 'loon' not in vars():\n",
    "            loon = \"no wage indication\"\n",
    "        return loon"
   ]
  },
  {
   "cell_type": "code",
   "execution_count": 107,
   "metadata": {},
   "outputs": [
    {
     "data": {
      "text/plain": [
       "'f345'"
      ]
     },
     "execution_count": 107,
     "metadata": {},
     "output_type": "execute_result"
    }
   ],
   "source": [
    "CloseRangeWage(\"gevraagd een goede keukenmeid f345 loon\")"
   ]
  },
  {
   "cell_type": "code",
   "execution_count": 103,
   "metadata": {},
   "outputs": [
    {
     "data": {
      "text/plain": [
       "True"
      ]
     },
     "execution_count": 103,
     "metadata": {},
     "output_type": "execute_result"
    }
   ],
   "source": []
  },
  {
   "cell_type": "code",
   "execution_count": null,
   "metadata": {},
   "outputs": [],
   "source": []
  }
 ],
 "metadata": {
  "kernelspec": {
   "display_name": "Python 3",
   "language": "python",
   "name": "python3"
  },
  "language_info": {
   "codemirror_mode": {
    "name": "ipython",
    "version": 3
   },
   "file_extension": ".py",
   "mimetype": "text/x-python",
   "name": "python",
   "nbconvert_exporter": "python",
   "pygments_lexer": "ipython3",
   "version": "3.6.5"
  }
 },
 "nbformat": 4,
 "nbformat_minor": 2
}
