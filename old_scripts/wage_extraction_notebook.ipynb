{
 "cells": [
  {
   "cell_type": "markdown",
   "metadata": {},
   "source": [
    "** Import Libraries **"
   ]
  },
  {
   "cell_type": "code",
   "execution_count": 2,
   "metadata": {},
   "outputs": [
    {
     "name": "stderr",
     "output_type": "stream",
     "text": [
      "C:\\ProgramData\\Anaconda3\\lib\\site-packages\\gensim\\utils.py:1212: UserWarning: detected Windows; aliasing chunkize to chunkize_serial\n",
      "  warnings.warn(\"detected Windows; aliasing chunkize to chunkize_serial\")\n"
     ]
    }
   ],
   "source": [
    "## Import libraries\n",
    "\n",
    "import os, glob, pandas as pd\n",
    "from gensim.models import KeyedVectors\n",
    "from gensim.models import Word2Vec\n",
    "from sklearn.feature_extraction.text import TfidfVectorizer\n",
    "import string, re\n",
    "import numpy as np\n",
    "from tqdm import tqdm\n",
    "from collections import Counter\n",
    "import numbers\n",
    "import matplotlib.pyplot as plt\n",
    "from matplotlib.pyplot import figure"
   ]
  },
  {
   "cell_type": "markdown",
   "metadata": {},
   "source": [
    "** Input Raw Data & HISCO list **"
   ]
  },
  {
   "cell_type": "code",
   "execution_count": 3,
   "metadata": {},
   "outputs": [],
   "source": [
    "# Import Raw Data (.csv file with harvested advertisements (using the KB-harvesting script))\n",
    "\n",
    "os.chdir(\"C://Users//Ruben//Downloads//metadata//algh_set_90\")\n",
    "df = pd.read_csv('1890-1899.csv', sep = '\\t')\n",
    "\n",
    "# to extract a random sample of advertisements:\n",
    "#df = df.sample(n=20000)\n",
    "#df = df.reset_index(drop=True)\n",
    "\n",
    "\n",
    "# Import HISCO list\n",
    "os.chdir(\"C://Users//Ruben//Documents//GitHub//dhl-ads//resources\")\n",
    "with open('list_occ_total.txt', encoding = 'utf-8') as f:\n",
    "    list_words = f.read().splitlines()\n",
    "\n",
    "list_words = list(set(list_words))\n",
    "list_words = list_words + ['loopjongen']"
   ]
  },
  {
   "cell_type": "markdown",
   "metadata": {},
   "source": [
    "** Define Cleaning and Other Useful Functions **"
   ]
  },
  {
   "cell_type": "code",
   "execution_count": 4,
   "metadata": {},
   "outputs": [],
   "source": [
    "## Set cleaning (or tokenizing) function\n",
    "## This function removes punctuation using string + regex and splits sentences on spaces\n",
    "\n",
    "def clean_and_split_str(txt):\n",
    "    #strip_special_chars = re.compile(\"[^A-Za-z0-9#]+\")\n",
    "    translator = str.maketrans('', '', string.punctuation)\n",
    "    txt = txt.translate(translator)\n",
    "    txt = re.sub('\\s+', ' ', txt).strip()\n",
    "    txt = txt.lower()\n",
    "    txt = txt.split(' ')\n",
    "    return txt\n",
    "\n",
    "## Function to detect whether a string contains a number\n",
    "\n",
    "def hasNumbers(inputString):\n",
    "    return any(char.isdigit() for char in inputString)"
   ]
  },
  {
   "cell_type": "markdown",
   "metadata": {},
   "source": [
    "** Data Tokenizing **"
   ]
  },
  {
   "cell_type": "code",
   "execution_count": 5,
   "metadata": {},
   "outputs": [],
   "source": [
    "df['clean'] = [clean_and_split_str(i) for i in df.ocr]"
   ]
  },
  {
   "cell_type": "markdown",
   "metadata": {},
   "source": [
    "** Line Extraction **\n",
    "\n",
    "The loop below searches for occupations in the cleaned articles. A list is used that includes the HISCO occupation and OCR-'alternatives' aquired through word embeddings and string distance measuring. Once an occupation is identified, a region 'around' it (L12:R40) is selected. This window is chosen because it seems to yield the most occupation-wage combinations. Larger windows to the right can be considered.\n",
    "\n",
    "Two choices in this step influence the outcome\n",
    "\n",
    "- the window. Lots of close reading more or less shows that the occupation - wage combi is found relatively close together, allowing for a relatively small window (< 50 to the right).\n",
    "\n",
    "- the word 'loon'. If this word is not in the extracted window or 'slice', the window is not included. Again, reading through lots of advertisements justifies this choice, because practically all the job advertisements contains the word 'loon'. "
   ]
  },
  {
   "cell_type": "code",
   "execution_count": 78,
   "metadata": {
    "collapsed": true
   },
   "outputs": [
    {
     "name": "stdout",
     "output_type": "stream",
     "text": [
      "11%\n",
      "22%\n",
      "32%\n",
      "43%\n",
      "54%\n",
      "65%\n",
      "75%\n",
      "86%\n",
      "97%\n"
     ]
    }
   ],
   "source": [
    "lo = list() \n",
    "ctr = 0 # counter for showing progress\n",
    "\n",
    "for c,i in enumerate(df.clean):\n",
    "    ctr += 1\n",
    "    \n",
    "    if any(e in i for e in list_words):     # check if there is an occupation in the advertisement\n",
    "        \n",
    "        occ = list()\n",
    "        \n",
    "        for w in i:                         # loop over every word and check if it is an advertisement (faster using list comprehension!!!!)\n",
    "            if w in list_words:\n",
    "                occ.append(w)\n",
    "        \n",
    "        for o in occ:                       # loop over occupations in ad-occupation list and select windows around 'em\n",
    "            ind = i.index(o)\n",
    "            sl = i[ind-12:ind+40]\n",
    "            sl = ' '.join(sl)\n",
    "            if 'loon ' in sl:               # if the word 'loon' is in the window; append [occupation:window] to list (not dictionary because of duplicate occupations)\n",
    "                lo.append([o,sl])\n",
    "        \n",
    "    if ctr % 10000 == 0:                    # print the progress\n",
    "        print(str(round(ctr / len(df.clean) * 100)) + \"%\")"
   ]
  },
  {
   "cell_type": "markdown",
   "metadata": {},
   "source": [
    "** Set Wage Extraction Function **\n",
    "\n",
    "In the function below, we specify how wages should be extracted. The function requires a string input (the windows extracted in the previous step). The steps are the following:\n",
    "\n",
    "- we split the string in a list of words (on spaces, because we tokenized earlier)\n",
    "- we identify the location of the word \"loon\"\n",
    "- we select a window around \"loon\" #windowinception\n",
    "- we extract the words in this loon-window that contain numbers (using the function defined earlier)\n",
    "- then, there are two options:\n",
    "    - the list of tokens-containing-numbers is empty: we either  look if indicative words such as 'goed' and 'hoog' are in the window-in-window and set the value of wage to \"qualitative\", or, when this is not the case we leave this advertisement to rott in the gutters of Delpher.\n",
    "    - the list of tokens-containing-numbers contains numbers: we identify the position of this number-containing-token and if it is one or two positions right of loon, it is set as the wage corresponding to the occupation. If it is farther away it is probably a random number or an OCR error"
   ]
  },
  {
   "cell_type": "code",
   "execution_count": 60,
   "metadata": {},
   "outputs": [],
   "source": [
    "def CloseRangeWage(string):\n",
    "    # Split string\n",
    "    s = string.split()\n",
    "    \n",
    "    # Check if we have separate f-sign, no f-sign or one f-sign combined with wages\n",
    "    \n",
    "    loon_instance = [x for x in s if \"loon\" in x]\n",
    "    loon_instance_index = s.index(loon_instance[0])\n",
    "    loon_proximity_string = s[loon_instance_index-3:loon_instance_index + 4]\n",
    "    \n",
    "    tokens_w_digits = list([token for token in loon_proximity_string if hasNumbers(token) == True])\n",
    "    \n",
    "    ## If there are no tokens with digits:\n",
    "    \n",
    "    if len(tokens_w_digits) == 0:\n",
    "        \n",
    "        list_qualitative_wage_indicators=['goed', 'hoog', 'behoorlijk', 'bekwaamheid', 'overeen', 'flink']\n",
    "\n",
    "        if any(x in loon_proximity_string for x in list_qualitative_wage_indicators):\n",
    "\n",
    "            qualitative_wage = list([i for i in loon_proximity_string if i in list_qualitative_wage_indicators])\n",
    "            if len(qualitative_wage) > 0:\n",
    "                loon = \"qualitative\"\n",
    "                                     \n",
    "        elif \"ƒ\" in s[loon_instance_index+1] or \"f\" in s[loon_instance_index+1]:\n",
    "            \n",
    "            if len(s[loon_instance_index+1]) == 1:\n",
    "                if len(s) <= loon_instance_index+2:\n",
    "                    loon = \"no wage indication\"\n",
    "                else: \n",
    "                    loon = s[loon_instance_index+2]\n",
    "            if len(s[loon_instance_index+1]) >= 1:\n",
    "                if len(s) < loon_instance_index+1:\n",
    "                    loon = \"no wage indication\"\n",
    "                else: \n",
    "                    loon = s[loon_instance_index+1]\n",
    "                    \n",
    "        elif any(x in loon_proximity_string for x in ['gulden']):\n",
    "        \n",
    "            gulden_wage = list([i for i in loon_proximity_string if i in ['gulden']])[0]\n",
    "            \n",
    "            index_gulden = s.index(gulden_wage)\n",
    "            \n",
    "            loon = s[index_gulden-1]\n",
    "            \n",
    "        else:    \n",
    "            loon = \"no wage indication\"\n",
    "        \n",
    "    ## If there are tokens with digits:\n",
    "    \n",
    "    for token in tokens_w_digits:\n",
    "        \n",
    "        # Check if token before token with digit is \"loon\"\n",
    "        \n",
    "        token_index = loon_proximity_string.index(token)\n",
    "        \n",
    "        if loon_proximity_string[token_index-1] == \"loon\" or loon_proximity_string[token_index-2] == \"loon\":\n",
    "            loon = token\n",
    "            \n",
    "        else:\n",
    "            loon = \"no wage indication\"\n",
    "            \n",
    "    return loon"
   ]
  },
  {
   "cell_type": "markdown",
   "metadata": {},
   "source": [
    "** Define a Function that Converts the Number-Containing-Token to a quantifyable wage **\n",
    "\n",
    "The advertisement OCR is pretty bad. Many of the wages identified earlier are misinterpreted. Also, the currency sign ('f') is sometimes not separated from the wage itself. The function below converts the wage-string to a number and solves the most common OCR-errors (1 as l, 0 as o, f in wage)."
   ]
  },
  {
   "cell_type": "code",
   "execution_count": null,
   "metadata": {},
   "outputs": [],
   "source": [
    "def WageString2Number(string):\n",
    "\n",
    "    ## Check for f in beginning:\n",
    "    \n",
    "    if string[0] == \"f\" or string[0] == \"ƒ\":\n",
    "    \n",
    "        string = string.replace(\"ƒ\",\"\")\n",
    "        string = string.replace(\"f\",\"\")\n",
    "        \n",
    "    string = string.replace(\"l\", \"1\")\n",
    "    string = string.replace(\"o\", \"0\")\n",
    "    \n",
    "    try:\n",
    "        wage = int(string)\n",
    "        \n",
    "    \n",
    "    except ValueError:\n",
    "        wage = \"inconvertable\"\n",
    "        \n",
    "    return wage"
   ]
  },
  {
   "cell_type": "markdown",
   "metadata": {},
   "source": [
    "** Run the Functions **"
   ]
  },
  {
   "cell_type": "code",
   "execution_count": 79,
   "metadata": {},
   "outputs": [],
   "source": [
    "results = list()\n",
    "\n",
    "for k,v in lo:\n",
    "    \n",
    "    res = CloseRangeWage(v)\n",
    "    \n",
    "    results.append([k,res])\n",
    "result_df = pd.DataFrame([[v for k,v in results], [k for k,v in results]]).T\n",
    "result_df.columns = ['res', 'occ']"
   ]
  },
  {
   "cell_type": "markdown",
   "metadata": {},
   "source": [
    "** Set Function to make a histogram of wages (for specific occupations) **"
   ]
  },
  {
   "cell_type": "code",
   "execution_count": 52,
   "metadata": {},
   "outputs": [],
   "source": [
    "def PlotOccupation(occ, wage_limit, fuzzy_or_not):\n",
    "    \n",
    "    if fuzzy_or_not == \"no\":\n",
    "        dfk = result_df[result_df['occ'] == occ]\n",
    "        len_list_occ = len(dfk)\n",
    "    if fuzzy_or_not == \"yes\":\n",
    "        dfk = result_df[result_df['occ'].str.contains(occ)]\n",
    "        len_list_occ = len(dfk)\n",
    "    dfk = dfk[dfk['res'] != \"no wage indication\"]\n",
    "    dfk = dfk[dfk['res'] != \"qualitative\"]\n",
    "    \n",
    "    wage_res = list()\n",
    "\n",
    "    for i in list(dfk.res):\n",
    "        r = WageString2Number(i)\n",
    "        wage_res.append(r)\n",
    "    \n",
    "    wage_res_w = [x for x in wage_res if isinstance(x, numbers.Number)]\n",
    "    wage_res = [x for x in wage_res_w if x < wage_limit]\n",
    "    plt.hist(wage_res, edgecolor='black', linewidth=1.2)\n",
    "    plt.ylabel('Observations')\n",
    "    plt.xlabel(\"Observed Wages lower than \" + str(wage_limit))\n",
    "    \n",
    "    if fuzzy_or_not == \"yes\":\n",
    "        plt.title(\"Histogram of occupations containing \" + occ)\n",
    "        \n",
    "    if fuzzy_or_not == \"no\":    \n",
    "        plt.title(\"Histogram of \" + occ + \" wages. N = \" + str(len(wage_res_w)) + \" | \" + str(round(len(wage_res_w) / len_list_occ * 100)) + \"%\")"
   ]
  },
  {
   "cell_type": "code",
   "execution_count": 84,
   "metadata": {},
   "outputs": [
    {
     "data": {
      "image/png": "[encoded data removed]",
      "text/plain": [
       "<Figure size 432x288 with 1 Axes>"
      ]
     },
     "metadata": {},
     "output_type": "display_data"
    }
   ],
   "source": [
    "PlotOccupation(\"dienstbode\", 1000, \"no\")"
   ]
  },
  {
   "cell_type": "markdown",
   "metadata": {},
   "source": [
    "** Set Function to make a histogram of wages (for multiple occupations) **"
   ]
  },
  {
   "cell_type": "code",
   "execution_count": 66,
   "metadata": {},
   "outputs": [],
   "source": [
    "def PlotMultipleOccupations(list_of_occ, wage_limit):\n",
    "    \n",
    "    plt.figure(figsize=(20,10))\n",
    "\n",
    "    for occ in list_of_occ:\n",
    "        dfk = result_df[result_df['occ'] == occ]\n",
    "        len_list_occ = len(dfk)\n",
    "        dfk = dfk[dfk['res'] != \"no wage indication\"]\n",
    "        dfk = dfk[dfk['res'] != \"qualitative\"]\n",
    "\n",
    "        wage_res = list()\n",
    "\n",
    "        for i in list(dfk.res):\n",
    "            r = WageString2Number(i)\n",
    "            wage_res.append(r)\n",
    "\n",
    "        wage_res_w = [x for x in wage_res if isinstance(x, numbers.Number)]\n",
    "        wage_res = [x for x in wage_res_w if x < wage_limit]\n",
    "        plt.hist(wage_res, edgecolor='black', linewidth=1.2, alpha = 0.7, label = occ + \" | N = \" + str(len(wage_res_w)) + \" | \" + str(round(len(wage_res_w) / len_list_occ * 100)) + \"%\")\n",
    "    \n",
    "    \n",
    "    \n",
    "    plt.ylabel('Observations')\n",
    "    plt.xlabel(\"Observed Wages lower than \" + str(wage_limit))\n",
    "    plt.title(\"Histogram of wages of: \" + \", \".join(list_of_occ))\n",
    "    plt.legend(loc='upper right')\n",
    "    plt.show()"
   ]
  },
  {
   "cell_type": "code",
   "execution_count": 85,
   "metadata": {},
   "outputs": [
    {
     "ename": "ZeroDivisionError",
     "evalue": "division by zero",
     "output_type": "error",
     "traceback": [
      "\u001b[1;31m---------------------------------------------------------------------------\u001b[0m",
      "\u001b[1;31mZeroDivisionError\u001b[0m                         Traceback (most recent call last)",
      "\u001b[1;32m<ipython-input-85-b1e796eb3c19>\u001b[0m in \u001b[0;36m<module>\u001b[1;34m()\u001b[0m\n\u001b[1;32m----> 1\u001b[1;33m \u001b[0mPlotMultipleOccupations\u001b[0m\u001b[1;33m(\u001b[0m\u001b[1;33m[\u001b[0m\u001b[1;34m'keukenmeid'\u001b[0m\u001b[1;33m,\u001b[0m \u001b[1;34m'dienstbode'\u001b[0m\u001b[1;33m,\u001b[0m \u001b[1;34m'meid'\u001b[0m\u001b[1;33m,\u001b[0m \u001b[1;34m'loopjongen'\u001b[0m\u001b[1;33m,\u001b[0m \u001b[1;34m''\u001b[0m\u001b[1;33m]\u001b[0m\u001b[1;33m,\u001b[0m \u001b[1;36m1000\u001b[0m\u001b[1;33m)\u001b[0m\u001b[1;33m\u001b[0m\u001b[0m\n\u001b[0m",
      "\u001b[1;32m<ipython-input-66-6332f522d560>\u001b[0m in \u001b[0;36mPlotMultipleOccupations\u001b[1;34m(list_of_occ, wage_limit)\u001b[0m\n\u001b[0;32m     17\u001b[0m         \u001b[0mwage_res_w\u001b[0m \u001b[1;33m=\u001b[0m \u001b[1;33m[\u001b[0m\u001b[0mx\u001b[0m \u001b[1;32mfor\u001b[0m \u001b[0mx\u001b[0m \u001b[1;32min\u001b[0m \u001b[0mwage_res\u001b[0m \u001b[1;32mif\u001b[0m \u001b[0misinstance\u001b[0m\u001b[1;33m(\u001b[0m\u001b[0mx\u001b[0m\u001b[1;33m,\u001b[0m \u001b[0mnumbers\u001b[0m\u001b[1;33m.\u001b[0m\u001b[0mNumber\u001b[0m\u001b[1;33m)\u001b[0m\u001b[1;33m]\u001b[0m\u001b[1;33m\u001b[0m\u001b[0m\n\u001b[0;32m     18\u001b[0m         \u001b[0mwage_res\u001b[0m \u001b[1;33m=\u001b[0m \u001b[1;33m[\u001b[0m\u001b[0mx\u001b[0m \u001b[1;32mfor\u001b[0m \u001b[0mx\u001b[0m \u001b[1;32min\u001b[0m \u001b[0mwage_res_w\u001b[0m \u001b[1;32mif\u001b[0m \u001b[0mx\u001b[0m \u001b[1;33m<\u001b[0m \u001b[0mwage_limit\u001b[0m\u001b[1;33m]\u001b[0m\u001b[1;33m\u001b[0m\u001b[0m\n\u001b[1;32m---> 19\u001b[1;33m         \u001b[0mplt\u001b[0m\u001b[1;33m.\u001b[0m\u001b[0mhist\u001b[0m\u001b[1;33m(\u001b[0m\u001b[0mwage_res\u001b[0m\u001b[1;33m,\u001b[0m \u001b[0medgecolor\u001b[0m\u001b[1;33m=\u001b[0m\u001b[1;34m'black'\u001b[0m\u001b[1;33m,\u001b[0m \u001b[0mlinewidth\u001b[0m\u001b[1;33m=\u001b[0m\u001b[1;36m1.2\u001b[0m\u001b[1;33m,\u001b[0m \u001b[0malpha\u001b[0m \u001b[1;33m=\u001b[0m \u001b[1;36m0.7\u001b[0m\u001b[1;33m,\u001b[0m \u001b[0mlabel\u001b[0m \u001b[1;33m=\u001b[0m \u001b[0mocc\u001b[0m \u001b[1;33m+\u001b[0m \u001b[1;34m\" | N = \"\u001b[0m \u001b[1;33m+\u001b[0m \u001b[0mstr\u001b[0m\u001b[1;33m(\u001b[0m\u001b[0mlen\u001b[0m\u001b[1;33m(\u001b[0m\u001b[0mwage_res_w\u001b[0m\u001b[1;33m)\u001b[0m\u001b[1;33m)\u001b[0m \u001b[1;33m+\u001b[0m \u001b[1;34m\" | \"\u001b[0m \u001b[1;33m+\u001b[0m \u001b[0mstr\u001b[0m\u001b[1;33m(\u001b[0m\u001b[0mround\u001b[0m\u001b[1;33m(\u001b[0m\u001b[0mlen\u001b[0m\u001b[1;33m(\u001b[0m\u001b[0mwage_res_w\u001b[0m\u001b[1;33m)\u001b[0m \u001b[1;33m/\u001b[0m \u001b[0mlen_list_occ\u001b[0m \u001b[1;33m*\u001b[0m \u001b[1;36m100\u001b[0m\u001b[1;33m)\u001b[0m\u001b[1;33m)\u001b[0m \u001b[1;33m+\u001b[0m \u001b[1;34m\"%\"\u001b[0m\u001b[1;33m)\u001b[0m\u001b[1;33m\u001b[0m\u001b[0m\n\u001b[0m\u001b[0;32m     20\u001b[0m \u001b[1;33m\u001b[0m\u001b[0m\n\u001b[0;32m     21\u001b[0m \u001b[1;33m\u001b[0m\u001b[0m\n",
      "\u001b[1;31mZeroDivisionError\u001b[0m: division by zero"
     ]
    },
    {
     "data": {
      "image/png": "[encoded data removed]",
      "text/plain": [
       "<Figure size 1440x720 with 1 Axes>"
      ]
     },
     "metadata": {},
     "output_type": "display_data"
    }
   ],
   "source": [
    "PlotMultipleOccupations(['keukenmeid', 'dienstbode', 'meid', 'loopjongen', ''], 1000)"
   ]
  },
  {
   "cell_type": "markdown",
   "metadata": {},
   "source": [
    "** Set Function for Extracting Temporal Markers **\n",
    "\n",
    "Wages can be specified in differnt ways. Most common are wages specified for years, but months and weeks also occur. This function attempts to extract thos temporal units, using the extracted windows. The function searches for the words and checks if the character \"p\" is in the word before this word, because \"per week\" is a common way of specifying the wage earned per week. Matching the full word \"per\" proves to be too strict."
   ]
  },
  {
   "cell_type": "code",
   "execution_count": 273,
   "metadata": {},
   "outputs": [],
   "source": [
    "def GetTime(string):\n",
    "    \n",
    "    s = string.split()\n",
    "    \n",
    "    if any(x in s for x in ['dag', 'maand', 'jaar']):\n",
    "        time_instance = list([i for i in s if i in ['dag', 'maand', 'jaar']])[0]\n",
    "    \n",
    "        time_instance_index = s.index(time_instance)\n",
    "    \n",
    "        if \"p\" in s[time_instance_index - 1] and time_instance_index - 1 >= 0:\n",
    "\n",
    "            time = time_instance\n",
    "            \n",
    "        else:\n",
    "            time = \"no_time\"\n",
    "            \n",
    "    else:\n",
    "        time = \"no_time\"\n",
    "        \n",
    "    return time"
   ]
  },
  {
   "cell_type": "code",
   "execution_count": 292,
   "metadata": {},
   "outputs": [],
   "source": [
    "timel = list()\n",
    "for k,v in lo:\n",
    "    r = GetTime(v)\n",
    "    timel.append(r)\n",
    "Counter(timel)"
   ]
  },
  {
   "cell_type": "code",
   "execution_count": 290,
   "metadata": {},
   "outputs": [],
   "source": [
    "result_df.to_csv('algh-extracted-wages.csv', index=False)"
   ]
  },
  {
   "cell_type": "code",
   "execution_count": 74,
   "metadata": {},
   "outputs": [
    {
     "data": {
      "text/plain": [
       "['tegen hoog loon zoo spoedig mogelijk bij p woert te mijdrecht 18652 loopjongen om direct in dienst te treden wordt verlangd een flinke loopjongen p g om huiswerk te verrichten en bood schappen te doen en verder tot huisknecht te worden opgeleid goede getuigen zijn hoofd vereischten brieven franco onder no 18653',\n",
       " 'tegen hoog loon zoo spoedig mogelijk bij p woert te mijdrecht 18652 loopjongen om direct in dienst te treden wordt verlangd een flinke loopjongen p g om huiswerk te verrichten en bood schappen te doen en verder tot huisknecht te worden opgeleid goede getuigen zijn hoofd vereischten brieven franco onder no 18653',\n",
       " 'in prjs verminderde boeken op aanvrage gratis en franco verkrijgbaar 19985 ten loopjongen gevraagd van ongeveer 15 jaar voor dadelijk loon ƒ 250 per week adres zuidblaak 16 20337 ecu bekwaam huisknecht wordt gevraagd met november of vroeger van den p g niet beneden de 30 jaar en goede getuigschriften kunnende overleggen',\n",
       " 'doos artikelen onmisbaar in elke huishouding naar buiten emballage vrij 20368 een loopjongen gevraagd van ongeveer 15 jaar voor dadelijk loon f 250 per week adres zuidblaak 16 20337 wordt zoo spoedig mogelijk gevraagd eene gezonde vaste min brieven te adresseeren onder het nummer dezer advertentie aan het bureau van dit blad',\n",
       " 'franco brieven lott r w bij a leusen boekhandel haarlem 20405 eea loopjongen gevraagd van ongeveer 15 jaar voor dadelijk loon f 250 per week adres zuidblaak 16 20337 stand der depositoreiite bij het 13603 oaüipi bstaiaim l eroofilßster foriayn open bijstuin 3 opvraagbaar na één maand 3j „ „ twee maanden',\n",
       " 'bekomen bij blanken en den hartog te haastrecht bij gouda 20422 een loopjongen gevraagd van ongeveer 15 jaar voor dadelijk loon f 250 per week adres zuidblaak 16 20337 ■ laar lees dan toé yoor 18 stuivers franco thuis 1 nieuw rad van avontuur of kijkjes in de toekomst 80 vragen met',\n",
       " 'aan den boek en papierhandelaar f vogel in den rijp 20489 één loopjongen gevraagd van ongeveer 15 jaar voor dadelijk loon f 250 por week adres zuidblaak 16 20337 logement en herberg over te nomen in het centrum dor stad met vergunnïiig adres raamstraat no 23 20483 uit è kad te pop',\n",
       " '109 kan geplaatst worden een voor den bezorging der couranten en een loopjongen voor den winkel gevraagd eene dienstbode p g die gelegenheid heeft thuis te slapen zindelijk kunnende werken en bekend met koken loon ƒ250 per week zonder goede getuigen onnoodig zich aan te melden adres biei haven no 3 ■„',\n",
       " 'geplaatst worden borgstelling ƒ5o adres in persoon zwarte ilonditraat 21 een fatsoenlijke loopjongen gevraagd bij e noack noordblaak 0 alhier •■ tegen hoog loon wordt gevraagd voor ta parijs en zomers • • buiten een zeer tatsoenlijke dienstbode goed kunnende koken en huiswerk verrichten franco br onder no 3282 bur vd blad',\n",
       " 'van goede getuigen voorzien adr van der takstraat 4 2 x tellen loopjongen gevraagd loon f 1 50 adres g sunkert noord mr ik ne 55 gevraagd een fatsoenlijk dienstmeisje p g uitsluitend voor de huishouding adres weste wagenstraat 13 benedenhuis eene gezonde jonge vrouw van haar tweede kind bevallen en drie',\n",
       " 'voorzien fr brj no 2087 bur v d blad v een fatsoenlijke loopjongen gevraagd loon 350 per week niet boven de 17 jaar spreekuur ivoor 12 of na 6 uur vischsteeg nov 10y kappersbediende gevraag tegen 1 mei s ilaris naar be waarrihèid bij joh van zuilichem coiffear dordrecht ri ai ••',\n",
       " 'duitsche ver huurkantoor van g pelz ■ nieuwstraat 29 1 i een loopjongen gevraagd voor dadelijk in een i kruidenierswinkeloud 14a15 t jaar opgaif van getuigen loon enz fr br no 3632 bur vd blad l apotheek wegens ziekte van den apotheker wordt gevraagd voor terstond een assistent ■ of assistente r',\n",
       " 'bureau van dit blad onder no 13267 11 wordt gevraagd een fiinke loopjongen niet jonger dan 16 jaar adres van schaick baljon 27 noordblaak 13220 6 steenhouwers gevbaagd bij den bouw van musis sacrnrn te arnhem kunnen goede steenhouwers tegen flink loon terstond werk bekomen 13059 10 vergminiug ter overname aangeboden een',\n",
       " 'linden piet heirsplein oud delftsnaven no 2 vraagt bekwame stukadoors een nette loopjongen gevraagd loon i per week adres wijnstraat 76 eerste étage ■ ■■ ■ n » een bekwame werkster biedt zich aan voor 2 a 3 dagen per week fr br no 5579 bur vd blad gevraagd voor dadelijk een',\n",
       " 'f2 per week adres keizerstaat 1 op een expeditiekantoor wordt gevraagd een loopjongen loon f 2— sweeiis adres br lelt b aan de handelsdrukkerij van j w van leeniioff zoon gevraagd een halfwasplaatwerker geprangd bij 0 tusdchenbroek boteriloot no 80 terstond gevi aagd in een koek en banketbakkerij een bekwame winkeldochter p',\n",
       " 'getuigen voorzien adres noordblaak 55 g slinkert noordblaak 55 vraagt een fatsoenlijke loopjongen j loon f 2',\n",
       " 'loon en vrij wasch adr kruiskade 4i a2x bellen een nette vlngge loopjongen gevraagd van goede getuigen voorzien adres ned kiosken mij zwarte hondstraat 21 met mei wordt gevraagd een fatsoenlijke r c dienstbode goed kunnende koken en werken liefst van buiten adres lage oostzeedijk a 7011 bekwame sghildersknechts kunnen dadelijk geplaatst',\n",
       " 'fr br no 14246 bur v d blad terst gevraagd een flinke loopjongen kunnende lezen en schi ijven loon f 450 per week adres in persoon keizerstraat 1',\n",
       " 'fr br lett a b feijenoord rozestraat 9 2 maal bellen een loopjongen gevraagd beneden de 15 jaren vv e vi3 tricotfabriek hang 38 gevraagd een jongen 12 al3jaar spuiwater 2 1 augustus gevraagd te arnhem ia een deftigen dienst tegen hoog loon eene bekwame keukenmeid p g 26 a 30 jaren',\n",
       " 'niet boven de 18 jaar 1 spoeljongen 2 keuken werkmeiden 1 flinke loopjongen loon f 2 per week 1 duitsche keukenmeid loon ƒl2 per maand zonder goede getuigen onnoodig zich aan te mélden dames een modiste grondig ervaren in het garneeren van dames en kinderhoeden vraagt te garneeren aan huis worden volgens',\n",
       " 'in persoon schotelboschlaan hoek bernardinastraat n 014 cvan straaten gevraagd een fatsoenlijke loopjongen voorzien van goede getuigen tusschen de 16 en 17 jaar loon f 3 per week te bevragen tuindersl dwarsstraat no 6 benedenhuis des avords na 7 uur gevraagd een net meisje voor halve dagen 14 a 15 jaar oud',\n",
       " 'g 3i6 bij de wetering te kralingen j h uiting een flinke loopjongen gevraagd salaris f 2 s weeks zonder goede getuigen onnoodig zich aan te melden adre nederl kioskenmaatschappij zwarte hondstraat 21 gevraagd een nette loopjongen voorzien van goede getuigen niet beneden de 16 jaar loon f 3 per week spreekuur',\n",
       " 'g 3i6 bij de wetering te kralingen j h uiting een flinke loopjongen gevraagd salaris f 2 s weeks zonder goede getuigen onnoodig zich aan te melden adre nederl kioskenmaatschappij zwarte hondstraat 21 gevraagd een nette loopjongen voorzien van goede getuigen niet beneden de 16 jaar loon f 3 per week spreekuur',\n",
       " 'lett d bij den boekh w kok rosestraat 8 rotterdam een nette loopjongen gevraagd loon f 150 s weeks zonder goede getuigen onnoodig zich aan te melden nederl kioskenmaatschappijzwarte hondstraat 21 bijhouden van boeken en correspondentie een vertrouwd man bekwaam boekhouder en correspondent in de moderne talen van prioca referentiën voorzien heeft',\n",
       " 'bur v d blad aan de nederl kiosken maatschappij wordt eea vlugge loopjongen gevraagd weekloon ƒ150 adres zwarte hondstraat 21 terstond een kellnerin gevraagd maaskade 69 in een kruidenierswinkel kan terstond een nette jongen geplaatst worden adres in persoon h gerzee meent no 6 een nette vrouw vraagt beleefd eenige wasschen hetzij',\n",
       " 'iets dergelijks fr br no 17922 bur v dblad gevraagd een nette loopjongen zonder goede getuigen onnoodig zich aan te melden adres erasmusstraat 34 s avonds tusschen 6 en 8 uur aan de rijkskweekschool direct gevraagd eene flinke waschmeid loon f 120 wasch vrij van goede getuigen voorzien adresseere men zich raampoortlaan',\n",
       " 'gevraagd loon ƒ150 per week adres crooswijkschekade no 10 gevraagd een fatsoenlijka loopjongen adresg slinkert noord blaak 55 een nette gehuwde jon« geman goed op de hoogta van het meubel en vak zoekt eenige bijverdienste onverschillig yan welken aard de baste getuigen ten dienste br fr no 19064 bur v d blad',\n",
       " '40 jaar br fr no 19217 bur v d blad een flinke loopjongen gevraagd loon ƒ150 per week persoonlijk zich aan te melden tusschen 6—b uur s avonds bij m j c de liefde goudscheweg no 113 over de boezembrug een fatsoenlijke burgerdochter 22 jaar biedt zich aan als winkeljuffrouw in een',\n",
       " 'van goede getuigen voorzien adres izaak hubertstraat no 82 gevraagd een nette loopjongen omstreeks 13 a 14 jaar oud loon f 126 per week adres wijnstraat 76 le étage',\n",
       " 'den leeftijd van 13 a 14 jaar inlichtingen te verkrijgen kiosk viaduct loopjongen een nette jongen gevraagd voor loop en winkelwerk loon 150 a 2 gulden per week adres coolsingel 13 rotterdam een jufrouw p g zoekt eene betrekking voor gezelschap of voor de huishouding liefst direct br fr no 19833 bur',\n",
       " 'kan geplaatst worden op eene linieerinrichting adres oosterstraat 3 gevraagd een nette loopjongen niet beneden de 17 jaar voorzien vangoede getuigen loon f 3soper weekspreektijd maandag na 6 uur adres vischsteeg no 10 attentie sv p een jong gehuwd persoon p g eigen zaken hebbende die hem geen voldoend bestaan opleveren en',\n",
       " 'bezichtigen bij schuurman hofdijk 2 tegen maandag 15 dee gevraagd een flinke loopjongen boven de 16 jaar voorzien van bewijs van goed gedrag anders onnoodig zich aan te melden loon f25q adres hoofdstee 19 ter overname aangeboden een nette zaak in aardappelen verscheen geconserveerde groenten en brandstoffen voor da waarde van de']"
      ]
     },
     "execution_count": 74,
     "metadata": {},
     "output_type": "execute_result"
    }
   ],
   "source": [
    "[v for k,v in lo if k == \"loopjongen\"]"
   ]
  },
  {
   "cell_type": "code",
   "execution_count": null,
   "metadata": {},
   "outputs": [],
   "source": []
  }
 ],
 "metadata": {
  "kernelspec": {
   "display_name": "Python 3",
   "language": "python",
   "name": "python3"
  },
  "language_info": {
   "codemirror_mode": {
    "name": "ipython",
    "version": 3
   },
   "file_extension": ".py",
   "mimetype": "text/x-python",
   "name": "python",
   "nbconvert_exporter": "python",
   "pygments_lexer": "ipython3",
   "version": "3.6.5"
  }
 },
 "nbformat": 4,
 "nbformat_minor": 2
}
