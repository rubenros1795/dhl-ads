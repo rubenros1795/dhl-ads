{
 "cells": [
  {
   "cell_type": "markdown",
   "metadata": {},
   "source": [
    "** Import Libraries **"
   ]
  },
  {
   "cell_type": "code",
   "execution_count": 1,
   "metadata": {},
   "outputs": [],
   "source": [
    "## Import libraries\n",
    "\n",
    "import os, glob, pandas as pd\n",
    "import string, re\n",
    "import numpy as np\n",
    "from tqdm import tqdm\n",
    "from collections import Counter\n",
    "import numbers\n",
    "import matplotlib.pyplot as plt\n",
    "from matplotlib.pyplot import figure\n",
    "from string import ascii_lowercase\n",
    "import os \n",
    "import glob\n",
    "import re\n",
    "import requests\n",
    "import shutil\n",
    "import pandas as pd\n",
    "import time\n",
    "from nltk import ngrams\n",
    "from operator import itemgetter"
   ]
  },
  {
   "cell_type": "markdown",
   "metadata": {},
   "source": [
    "** Input Raw Data & HISCO list **"
   ]
  },
  {
   "cell_type": "code",
   "execution_count": 2,
   "metadata": {},
   "outputs": [],
   "source": [
    "# Import Raw Data (.csv file with harvested advertisements (using the KB-harvesting script))\n",
    "\n",
    "os.chdir(\"C://Users//Ruben//Downloads//metadata//leco_set_80\")\n",
    "df = pd.read_csv('1880-1890.csv', sep = '\\t')\n",
    "\n",
    "#df = df.sample(n=2000)\n",
    "#df = df.reset_index(drop=True)"
   ]
  },
  {
   "cell_type": "code",
   "execution_count": 3,
   "metadata": {},
   "outputs": [],
   "source": [
    "# Import HISCO list\n",
    "os.chdir(\"C://Users//Ruben//Documents//GitHub//dhl-ads//resources\")\n",
    "with open('list_occ_total.txt', encoding = 'utf-8') as f:\n",
    "    list_words = f.read().splitlines()\n",
    "\n",
    "list_words = list(set(list_words))\n",
    "list_words = list_words + ['loopjongen']\n",
    "list_words = set(list_words)\n",
    "\n",
    "# Import QUAL Indicator list\n",
    "os.chdir(\"C://Users//Ruben//Documents//GitHub//dhl-ads//resources\")\n",
    "with open('qualitative_indicators.txt', encoding = 'utf-8') as f:\n",
    "    qual_words = f.read().splitlines()\n",
    "    \n",
    "# Import QUAL Indicator list\n",
    "os.chdir(\"C://Users//Ruben//Documents//GitHub//dhl-ads//resources\")\n",
    "with open('wage_indicators.txt', encoding = 'utf-8') as f:\n",
    "    wage_words = f.read().splitlines()"
   ]
  },
  {
   "cell_type": "markdown",
   "metadata": {},
   "source": [
    "** Define Cleaning and Other Useful Functions **"
   ]
  },
  {
   "cell_type": "code",
   "execution_count": 4,
   "metadata": {},
   "outputs": [],
   "source": [
    "## Set cleaning (or tokenizing) function\n",
    "## This function removes punctuation using string + regex and splits sentences on spaces\n",
    "\n",
    "def clean_and_split_str(txt):\n",
    "    #strip_special_chars = re.compile(\"[^A-Za-z0-9#]+\")\n",
    "    translator = str.maketrans('', '', string.punctuation)\n",
    "    txt = txt.translate(translator)\n",
    "    txt = re.sub('\\s+', ' ', txt).strip()\n",
    "    txt = txt.lower()\n",
    "    txt = txt.split(' ')\n",
    "    return txt\n",
    "\n",
    "## Function to detect whether a string contains a number\n",
    "\n",
    "def hasNumbers(inputString):\n",
    "    return any(char.isdigit() for char in inputString)"
   ]
  },
  {
   "cell_type": "markdown",
   "metadata": {},
   "source": [
    "** Data Tokenizing **"
   ]
  },
  {
   "cell_type": "code",
   "execution_count": 5,
   "metadata": {},
   "outputs": [],
   "source": [
    "df['clean'] = [clean_and_split_str(i) for i in df.ocr]\n",
    "#df['clean'] = [i for i in df.ocr]"
   ]
  },
  {
   "cell_type": "markdown",
   "metadata": {},
   "source": [
    "** Line Extraction **\n",
    "\n",
    "The loop below searches for occupations in the cleaned articles. A list is used that includes the HISCO occupation and OCR-'alternatives' aquired through word embeddings and string distance measuring. Once an occupation is identified, a region 'around' it (L12:R40) is selected. This window is chosen because it seems to yield the most occupation-wage combinations. Larger windows to the right can be considered.\n",
    "\n",
    "Two choices in this step influence the outcome\n",
    "\n",
    "- the window. Lots of close reading more or less shows that the occupation - wage combi is found relatively close together, allowing for a relatively small window (< 50 to the right).\n",
    "\n",
    "- the word 'loon'. If this word is not in the extracted window or 'slice', the window is not included. Again, reading through lots of advertisements justifies this choice, because practically all the job advertisements contains the word 'loon'. "
   ]
  },
  {
   "cell_type": "code",
   "execution_count": 6,
   "metadata": {},
   "outputs": [],
   "source": [
    "alphabet_id = [c for c in ascii_lowercase] + [c + c for c in ascii_lowercase] + [c + c +c for c in ascii_lowercase]"
   ]
  },
  {
   "cell_type": "code",
   "execution_count": 7,
   "metadata": {},
   "outputs": [
    {
     "name": "stdout",
     "output_type": "stream",
     "text": [
      "5%\n",
      "11%\n",
      "16%\n",
      "22%\n",
      "27%\n",
      "32%\n",
      "38%\n",
      "43%\n",
      "48%\n",
      "54%\n",
      "59%\n",
      "65%\n",
      "70%\n",
      "75%\n",
      "81%\n",
      "86%\n",
      "91%\n",
      "97%\n"
     ]
    }
   ],
   "source": [
    "opd = dict()\n",
    "ctr = 0 # counter for showing progress\n",
    "\n",
    "for c,i in enumerate(df.clean):\n",
    "    \n",
    "    ctr += 1\n",
    "    \n",
    "    if any(e in i for e in list_words):     # check if there is an occupation in the advertisement\n",
    "        \n",
    "        occ_list = list()\n",
    "        \n",
    "        list_set_ad = set(i)\n",
    "        list_occupations = set(list_words)\n",
    "        \n",
    "        occ_list = occ_list + list(list_occupations.intersection(list_set_ad))  # loop over every word and check if it is an occupation \n",
    "                \n",
    "        \n",
    "        for count,o in enumerate(occ_list):                       # loop over occupations in ad-occupation list and select windows around 'em\n",
    "            ind = i.index(o)\n",
    "            sl = i[ind-12:ind+40]\n",
    "            sl = ' '.join(sl)\n",
    "            if 'loon ' in sl or 'salaris' in sl:               # if the word 'loon' is in the window; append [occupation:window] to list (not dictionary because of duplicate occupations)\n",
    "                output_list = [o, sl, df['id'][c], df['date'][c], df['image_url'][c], i, ind]   \n",
    "                opd.update({str(c) + alphabet_id[count]:output_list})\n",
    "    \n",
    "    if ctr % 5000 == 0:                    # print the progress\n",
    "        print(str(round(ctr / len(df.clean) * 100)) + \"%\")"
   ]
  },
  {
   "cell_type": "code",
   "execution_count": 8,
   "metadata": {},
   "outputs": [],
   "source": [
    "## Convert output dictionary to dataframe (for clarity)\n",
    "dfa = pd.DataFrame([opd.keys() ,[v[3] for k,v in opd.items()], [v[0] for k,v in opd.items()], [v[1] for k,v in opd.items()],[v[4] for k,v in opd.items()], [' '.join(v[5]) for k,v in opd.items()],[v[6] for k,v in opd.items()],]).T\n",
    "dfa.columns = ['id','date', 'oc', 'window','image_url', 'ocr', 'occ_index']"
   ]
  },
  {
   "cell_type": "markdown",
   "metadata": {},
   "source": [
    "** Set Wage Extraction Function **\n",
    "\n",
    "In the function below, we specify how wages should be extracted. The function requires a string input (the windows extracted in the previous step). "
   ]
  },
  {
   "cell_type": "code",
   "execution_count": 60,
   "metadata": {},
   "outputs": [],
   "source": [
    "def hasNumbers(inputString):\n",
    "    return any(char.isdigit() for char in inputString)\n",
    "\n",
    "## Check Qualitative Indcators\n",
    "def ExtractQual(string):\n",
    "    s= string.split(' ')\n",
    "    loon = 'na'\n",
    "\n",
    "    list_qualitative_wage_indicators=qual_words\n",
    "\n",
    "    s_unigrams = s\n",
    "    s_bigrams = [\"_\".join(list(i)) for i in ngrams(s, 2)]\n",
    "\n",
    "    uni_bi= s_unigrams + s_bigrams\n",
    "\n",
    "    if any(x in uni_bi for x in list_qualitative_wage_indicators):\n",
    "\n",
    "        qualitative_wage = list([i for i in uni_bi if i in list_qualitative_wage_indicators])\n",
    "\n",
    "        if len(qualitative_wage) > 0:\n",
    "            loon = [loon for loon in list(set(qualitative_wage))]\n",
    "            return loon\n",
    "\n",
    "    else:\n",
    "        loon = 'na'\n",
    "        return loon\n",
    "\n",
    "## Extract Numbers\n",
    "def GetNum(string):\n",
    "    s = string.split(' ')\n",
    "    all_numbers = []\n",
    "\n",
    "    for i,w in enumerate(s):\n",
    "        if hasNumbers(w) == True or w in wage_words:\n",
    "            all_numbers.append([i, w])\n",
    "    return all_numbers\n",
    "\n",
    "## Classify Numbers\n",
    "def NumberCandidateClass(string, index, number_candidate):\n",
    "    string = string.split(' ')\n",
    "    ## Set Variables\n",
    "    score = 0\n",
    "    weights = 0\n",
    "    features = []\n",
    "    len_string = len(string) - 1\n",
    "\n",
    "    # Negative\n",
    "    if len(number_candidate) > 5:\n",
    "        score += -1\n",
    "        weights += 1\n",
    "    if number_candidate[0:2] == \"18\" and len(number_candidate) == 4:\n",
    "        score += -1\n",
    "        weights += 1\n",
    "    try:\n",
    "        if string[index+1] in ['januari', 'februari', 'maart', 'april', 'mei', 'juni', 'juli', 'augustus', 'september', 'oktober', 'november', 'december']:\n",
    "            score += -1\n",
    "            weights += 1\n",
    "    except IndexError:\n",
    "        pass\n",
    "\n",
    "    if string[index-1] == \"f\" or string[index-1] == 'ƒ':\n",
    "        score += 1\n",
    "        weights += 1\n",
    "    if number_candidate[0] == \"f\" or number_candidate[0] == 'ƒ':\n",
    "        score += 1\n",
    "        weights += 1\n",
    "    if string[index-1] == \"van\":\n",
    "        score += 1\n",
    "        weights += 1\n",
    "\n",
    "    try:\n",
    "        if string[index+1] == \"gulden\" or string[index+2] == \"gulden\":\n",
    "            score += 1\n",
    "            weights += 1\n",
    "    except IndexError:\n",
    "        pass\n",
    "\n",
    "    if string[index-1] in ['loon', 'salaris','beloning','jaarwedde'] or string[index-2] in ['loon', 'salaris','beloning','jaarwedde']:\n",
    "        score += 1\n",
    "        weights += 1\n",
    "\n",
    "    if string[index-1] == \"tegen\":\n",
    "        score += 1\n",
    "        weights += 1\n",
    "\n",
    "    try:\n",
    "        if string[index+1] in ['loon', 'salaris','beloning','jaarwedde'] or string[index+2] in ['loon', 'salaris','beloning','jaarwedde']:\n",
    "            score += 2\n",
    "            weights += 1\n",
    "    except IndexError:\n",
    "        pass\n",
    "\n",
    "    #print(features)\n",
    "    return score\n",
    "\n",
    "def ExtractNum(string):\n",
    "    list_numbers = GetNum(string)\n",
    "    list_scores = list(zip([number for ind,number in list_numbers], [NumberCandidateClass(string, ind, number) for ind, number in list_numbers]))\n",
    "    if len(list_scores) > 0 and max([score for loon,score in list_scores]) > 0:\n",
    "        winning_number = max([score for loon,score in list_scores])\n",
    "        loon =  [loon for loon,score in list_scores if score == winning_number][0]\n",
    "    else:\n",
    "        loon = \"na\"\n",
    "    return loon\n",
    "\n",
    "## Detect Non-Numerical\n",
    "def NonNumbClass(string):\n",
    "    s = string.split(' ')\n",
    "    candidates = []\n",
    "\n",
    "    f_instances = [w for w in s if \"ƒ\" in w and hasNumbers(w) == False]\n",
    "\n",
    "    for f in f_instances:\n",
    "\n",
    "        if len(f) > 1 and f[0] == 'ƒ':\n",
    "            candidates.append(f)\n",
    "        \n",
    "        if len(f) == 1:\n",
    "            f_index = s.index(f)\n",
    "            \n",
    "            try:\n",
    "                if \"o\" in s[f_index + 1]:\n",
    "                        candidates.append(\" \".join(s[f_index:f_index + 1]))\n",
    "            except IndexError:\n",
    "                pass\n",
    "    if len(candidates) == 0:\n",
    "        candidates = \"na\"\n",
    "        return candidates\n",
    "    else:\n",
    "        return candidates[0]\n"
   ]
  },
  {
   "cell_type": "code",
   "execution_count": 86,
   "metadata": {},
   "outputs": [],
   "source": [
    "dfa['ex_qual'] = \"\"\n",
    "dfa['ex_num'] = \"\"\n",
    "dfa['ex_nonnum'] = \"\"\n",
    "\n",
    "for i in range(len(dfa)):\n",
    " \n",
    "    dfa['ex_qual'][i] = ExtractQual(dfa['window'][i])\n",
    "    dfa['ex_num'][i] = ExtractNum(dfa['window'][i])\n",
    "    dfa['ex_nonnum'][i] = NonNumbClass(dfa['window'][i])"
   ]
  },
  {
   "cell_type": "code",
   "execution_count": 87,
   "metadata": {},
   "outputs": [],
   "source": [
    "dfa['ex_qual_id'] = \"\"\n",
    "dfa['ex_num_id'] = \"\"\n",
    "dfa['ex_nonnum_id'] = \"\"\n",
    "\n",
    "for i in range(len(dfa)):\n",
    "    \n",
    "    window = dfa['window'][i]\n",
    "    \n",
    "    if dfa['ex_qual'][i] != \"na\":\n",
    "        new_list = []\n",
    "        for q in dfa['ex_qual'][i]:\n",
    "            ind = window.index(q.replace(\"_\",\" \"))\n",
    "            new_list.append(q + \"_\" + str(ind))\n",
    "        dfa['ex_qual_id'][i] = \" \".join(new_list)\n",
    "        \n",
    "    if dfa['ex_num'][i] != \"na\":\n",
    "        ind = window.index(dfa['ex_num'][i])\n",
    "        dfa['ex_num_id'][i] = dfa['ex_num'][i] + \"_\" + str(ind)\n",
    "    \n",
    "    if dfa['ex_nonnum'][i] != \"na\":\n",
    "        new_list = []\n",
    "        for q in dfa['ex_nonnum'][i]:\n",
    "            ind = window.index(q)\n",
    "            new_list.append(q + \"_\" + str(ind))\n",
    "        dfa['ex_nonnum_id'][i] = \" \".join(new_list)"
   ]
  },
  {
   "cell_type": "code",
   "execution_count": 88,
   "metadata": {},
   "outputs": [],
   "source": [
    "## Confert Numerical and Non-Numerical Wages in Integers\n",
    "\n",
    "for i in range(len(dfa)):\n",
    "    if dfa['ex_num'][i] != \"na\":\n",
    "        s = dfa['ex_num'][i]\n",
    "        s = s.replace(\"o\", \"0\")\n",
    "        s = s.replace(\"l\", \"1\")\n",
    "        s = s.replace(\"—\", \"\")      \n",
    "        s = ''.join([i for i in s if not i.isalpha()])\n",
    "        s = re.sub(r'\\W+', '', s)\n",
    "\n",
    "        if len(s) > 0:\n",
    "            dfa['ex_num'][i] = int(s)\n",
    "        else:\n",
    "            continue\n",
    "    else:\n",
    "        continue\n",
    "        \n",
    "for i in range(len(dfa)):\n",
    "    if dfa['ex_nonnum'][i] != \"na\":\n",
    "        s = dfa['ex_nonnum'][i]\n",
    "        s = s.replace(\"o\", \"0\")\n",
    "        s = s.replace(\"l\", \"1\")\n",
    "        s = s.replace(\"b\", \"10\")\n",
    "        s = s.replace(\"ƒ\", \"\")     \n",
    "        s = ''.join([i for i in s if not i.isalpha()])\n",
    "        s = re.sub(r'\\W+', '', s)\n",
    "\n",
    "        if len(s) > 0:\n",
    "            dfa['ex_nonnum'][i] = int(s)\n",
    "        else:\n",
    "            continue\n",
    "    else:\n",
    "        continue"
   ]
  },
  {
   "cell_type": "code",
   "execution_count": 128,
   "metadata": {},
   "outputs": [
    {
     "data": {
      "text/plain": [
       "[('potter', 523),\n",
       " ('dienstbode', 440),\n",
       " ('heer', 379),\n",
       " ('keukenmeid', 340),\n",
       " ('dienst', 333),\n",
       " ('boekhandelaar', 297),\n",
       " ('meid', 259),\n",
       " ('notaris', 253),\n",
       " ('huiswerk', 214),\n",
       " ('curator', 151)]"
      ]
     },
     "execution_count": 128,
     "metadata": {},
     "output_type": "execute_result"
    }
   ],
   "source": [
    "Counter(dfa['oc']).most_common(10)"
   ]
  },
  {
   "cell_type": "code",
   "execution_count": 129,
   "metadata": {},
   "outputs": [],
   "source": [
    "list_oc = []\n",
    "for o in ['keukenmeid', 'dienstbode','meid']:\n",
    "    l = list(dfa[(dfa['oc'] == o) & (dfa['ex_num'] != 'na') & (dfa['ex_num'].astype(str).str.isdigit())]['ex_num'])\n",
    "    l = [x for x in l if x < 1000]\n",
    "    list_oc.append(l)"
   ]
  },
  {
   "cell_type": "code",
   "execution_count": 130,
   "metadata": {},
   "outputs": [],
   "source": [
    "doc = pd.DataFrame(list_oc).T"
   ]
  },
  {
   "cell_type": "code",
   "execution_count": 131,
   "metadata": {},
   "outputs": [],
   "source": [
    "doc.columns = ['keukenmeid', 'dienstbode','meid']"
   ]
  },
  {
   "cell_type": "code",
   "execution_count": 132,
   "metadata": {},
   "outputs": [
    {
     "data": {
      "text/plain": [
       "<matplotlib.axes._subplots.AxesSubplot at 0x245857d5278>"
      ]
     },
     "execution_count": 132,
     "metadata": {},
     "output_type": "execute_result"
    },
    {
     "data": {
      "image/png": "[encoded data removed]",
      "text/plain": [
       "<Figure size 432x288 with 1 Axes>"
      ]
     },
     "metadata": {},
     "output_type": "display_data"
    }
   ],
   "source": [
    "doc.plot.kde(ind=list(range(0,400,10)))"
   ]
  },
  {
   "cell_type": "code",
   "execution_count": null,
   "metadata": {},
   "outputs": [],
   "source": []
  }
 ],
 "metadata": {
  "kernelspec": {
   "display_name": "Python 3",
   "language": "python",
   "name": "python3"
  },
  "language_info": {
   "codemirror_mode": {
    "name": "ipython",
    "version": 3
   },
   "file_extension": ".py",
   "mimetype": "text/x-python",
   "name": "python",
   "nbconvert_exporter": "python",
   "pygments_lexer": "ipython3",
   "version": "3.6.5"
  }
 },
 "nbformat": 4,
 "nbformat_minor": 2
}
