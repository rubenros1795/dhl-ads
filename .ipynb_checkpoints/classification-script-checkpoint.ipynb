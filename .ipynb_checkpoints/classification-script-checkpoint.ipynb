{
 "cells": [
  {
   "cell_type": "code",
   "execution_count": 1,
   "metadata": {},
   "outputs": [],
   "source": [
    "import os, glob, pandas as pd"
   ]
  },
  {
   "cell_type": "code",
   "execution_count": 2,
   "metadata": {},
   "outputs": [],
   "source": [
    "os.chdir(\"C://Users//Ruben//Documents//GitHub//dhl-ads//test_ads\")"
   ]
  },
  {
   "cell_type": "code",
   "execution_count": 3,
   "metadata": {},
   "outputs": [],
   "source": [
    "df = pd.read_csv('test-batch.csv', sep = '\\t')"
   ]
  },
  {
   "cell_type": "code",
   "execution_count": null,
   "metadata": {},
   "outputs": [
    {
     "name": "stdout",
     "output_type": "stream",
     "text": [
      "Hollandsehe IJzeren Spoorweg-Maatschappij. Bij den dienst van Fractie en Materieel kan geplaatst worden een Adjunct-Ingenieur-Werktuigkundige. — Schriftelijke aanmeldingen worden ingewacht bij den In g e n i e u r-Werktuigkundige der Maatschappij te Amsterdam, Bureau Oudezijds-Voorburgwal 131. (9260) Asyl Steenbeek. Door den ondergeteekende is in dank ontvangen, onder de letters Q N, een Bankbiljet groot ƒ 100, ten behoeve van genoemd Asyl. C. P. VAN EEGHEN. Het Magazijn en Kantoor IN MacMiieriBii&&erBeisc]iaßpeii VAN BOST v. d. BURG & Co., TE (7) ROTTERDAM, is verplaatst naar de Willemskade No, 9, Aldaar. Hotel-M. HanttML De Coupon No. 11 der Oblig. van de Leening f S.OOOOÖO, Anno 1874, vervallende 1 Januari 1880, is van dien datum betaalbaar bij de Ontvang- en Betaalkas, vergezeld van Nummerlijsten, verkrijgbaar bij de Heeren BLIKMAN & 'SARTORIUS. (9916) SIEDBRS & Co., AMSTERDAM, Paleisstraat 23. ROTTERDAM, Hoogstraat 359. Directe In- en Verkoop van alle soorten Eifecten en Loten, het inwisselen van Coupons enz. P.S. Nazien der trelihingen van alle Loten. (9855) heaoilinF geeft aan oud lederen Sofa's, Stoelen en alle soorten van Ledergoed, oude Roekbanden of Bindwerk, den glans der nieuwheid terug en is verkrijgbaar in Fleschjes van 40 en 75 Cents bij alle solide Boekhandelaren. Zij wordt ook postvrij afgezonden tegen franco toezending van 45 en 85 Cents door de Hoofd-depothouders .1011. NOMAN & ZOON, te Zalt-Bommel. (9192) taanten m flrle Men, MET Hoofdartikelen van de beste Schrijvers, boeiend Feuilleton, onderhoudende Litteratuur,van den dag enz. enz. (9033) Proefnoramers op aanvrage gratis. Neem abonnement op de uiterst goedkoope. compleete Friescle Courant, die iederen Woensdag- en Zaterdagavond te Leeuwarden verschijnt. Drie Gulden per jaar. fr. p. p. door t geheele Rijk ƒ4lO. Bureau Groote Hoogstraat N°. 40.\n",
      "ad or something else?n\n",
      "/n\n",
      "Peen deftig gezin wordt met 1 Febr. gevraagd een fatsoenlijke, eenvoudige Dienstbode, P.G., voor Meid-Alleen, met hulp 'smorgens tot 2 uren. Vereischten zijn: goede getuigen, bekwaamheid en lust voor alle voorkomende werkzaamheden en vooral zindelijkheid, terwijl kennis van Strijken tot aanbeveling dient. Loon naar bekwaamheid en omstreeks ƒlOO verval. (3) Adres fr% lett. MW, Nieuws v/d Dag. \"ÏXfordt terstond verlangd eene *« flinke Werkmeid of Keukenmeid, van goede getuigenis. Hoog loon naar bekwaamheid. Adres franco, Boekh. HEEK, te Maarssen. L. Z. (2) Wordt gevraagd, 10. Februari a. 6., een Tweede Meid, kunnende Strijken, Naaien en Ma- Een. Zich vóór 12 uur te vervoegen: Prinsengracht Mj de Leidschestraat No. 472, te Amsterdam. Op eenVoorbereidendeschool, voor Kinderen uitden deftigen stand, wordt een jongste Juffrouw gevraagd. Adres franco, .motto School, Nieuws van den Dag. Eene JUFFROUW, van middelbaren leeftijd, wenscht wegens een Huwelijk wederom in een betrekking geplaatst te worden als Huishoudster, tegen Februari of later. Brieven, onder de letters A Z, aanhet Advertentiebureau van fl. G. VAN STEEDEN, Hellevoetsluis. In het Diaconie-Weeshuis der Hervormde Gemeente te West- Zaandam wordt gevraagd zoo spoe<üg mogelijk een Juffrouw, bekwaam onl aan de Meisjes onderricht te geven in het Naaien en Breien. De voordcelen aan deze betrekking verboden z\\jn: Kost, Inwoning, Geneeskundige hulp en een Salaris van ƒ 125 'sjaars. Sollicitanten adresseeren zich per franco brieven, doch liefst in persoon, den sen Januari 1880, tusschen M en 3 uren, aan Mevrouw A. P. FORTANIER, te Zaandam, W.zijde. Manufacturen. Er wordt gevraagd, zoo spoedig mogelijk, eene bekwame Winkeliuffrouw, die ger ui men tijd in bovengenoemd vak werkzaam ge¦weest is. Men vervoege zich in persoon of met franco brieven: Nieunwidijk 182. BOUWÏÏOEYE, ~\" TE HUUR, om met Mei a. s. te •aanvaarden, een grootendeels tiend' vrije BOUWHOEVE, gelegen tosschen Nijmegen en Druten, Ce- Kaande uit een flink, onlangs veriouwd Woonhuis, Schuren, Mestgchuur, Hooiberg en ruim 60 Heet. fietf onderhouden Bouw- en Weind en Boomgaard. Te bevragen met franco brieven, onder lett. N G, Bij de Boekhandelaars. C. A. VIEWEG & ZOON, te Nijmegen. (5) tïï\\e Utrecht wordt aangeboden, bü P. twee DAMES: Kost, Huiseliik verkeer en liefderijke Verpleging voor zenuwiijdende of ziekelijke Dames. Brieven franco, No. 654, aan 't Centraal Advertentie-Bureau van DEKEMA & \\AN DITMAR, Utrecht\n"
     ]
    }
   ],
   "source": [
    "df_oc = pd.DataFrame()\n",
    "\n",
    "for i, ad in enumerate(df.ocr):\n",
    "    print(ad)\n",
    "    n = input(\"ad or something else?\")\n",
    "    if n == 'y':\n",
    "        tmp = pd.DataFrame([ad])\n",
    "        tmp['class'] = \"ad\"\n",
    "        tmp['id'] = df.id[i]\n",
    "        df_oc = df_oc.append(tmp)\n",
    "        print(' ')\n",
    "        print(' ')\n",
    "    if n == 'n':\n",
    "        tmp = pd.DataFrame([ad])\n",
    "        tmp['class'] = \"noad\"\n",
    "        tmp['id'] = df.id[i]\n",
    "        df_oc = df_oc.append(tmp)\n",
    "        print(' ')\n",
    "        print(' ')"
   ]
  },
  {
   "cell_type": "code",
   "execution_count": null,
   "metadata": {},
   "outputs": [],
   "source": []
  }
 ],
 "metadata": {
  "kernelspec": {
   "display_name": "Python 3",
   "language": "python",
   "name": "python3"
  },
  "language_info": {
   "codemirror_mode": {
    "name": "ipython",
    "version": 3
   },
   "file_extension": ".py",
   "mimetype": "text/x-python",
   "name": "python",
   "nbconvert_exporter": "python",
   "pygments_lexer": "ipython3",
   "version": "3.6.5"
  }
 },
 "nbformat": 4,
 "nbformat_minor": 2
}
